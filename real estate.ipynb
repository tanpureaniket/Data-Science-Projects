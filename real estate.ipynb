{
 "cells": [
  {
   "cell_type": "markdown",
   "metadata": {},
   "source": [
    "## Capstone project:1 Real Estate Case Study"
   ]
  },
  {
   "cell_type": "markdown",
   "metadata": {},
   "source": [
    "### Import data"
   ]
  },
  {
   "cell_type": "code",
   "execution_count": 1,
   "metadata": {},
   "outputs": [],
   "source": [
    "#import required libraries\n",
    "import numpy as np\n",
    "import pandas as pd\n",
    "import matplotlib.pyplot as plt\n",
    "import seaborn as sns"
   ]
  },
  {
   "cell_type": "code",
   "execution_count": 2,
   "metadata": {},
   "outputs": [],
   "source": [
    "#import the train and test dataset\n",
    "df_train=pd.read_csv(\"train.csv\")\n",
    "df_test=pd.read_csv(\"test.csv\")"
   ]
  },
  {
   "cell_type": "code",
   "execution_count": 3,
   "metadata": {},
   "outputs": [
    {
     "data": {
      "text/html": [
       "<div>\n",
       "<style scoped>\n",
       "    .dataframe tbody tr th:only-of-type {\n",
       "        vertical-align: middle;\n",
       "    }\n",
       "\n",
       "    .dataframe tbody tr th {\n",
       "        vertical-align: top;\n",
       "    }\n",
       "\n",
       "    .dataframe thead th {\n",
       "        text-align: right;\n",
       "    }\n",
       "</style>\n",
       "<table border=\"1\" class=\"dataframe\">\n",
       "  <thead>\n",
       "    <tr style=\"text-align: right;\">\n",
       "      <th></th>\n",
       "      <th>UID</th>\n",
       "      <th>BLOCKID</th>\n",
       "      <th>SUMLEVEL</th>\n",
       "      <th>COUNTYID</th>\n",
       "      <th>STATEID</th>\n",
       "      <th>state</th>\n",
       "      <th>state_ab</th>\n",
       "      <th>city</th>\n",
       "      <th>place</th>\n",
       "      <th>type</th>\n",
       "      <th>...</th>\n",
       "      <th>female_age_mean</th>\n",
       "      <th>female_age_median</th>\n",
       "      <th>female_age_stdev</th>\n",
       "      <th>female_age_sample_weight</th>\n",
       "      <th>female_age_samples</th>\n",
       "      <th>pct_own</th>\n",
       "      <th>married</th>\n",
       "      <th>married_snp</th>\n",
       "      <th>separated</th>\n",
       "      <th>divorced</th>\n",
       "    </tr>\n",
       "  </thead>\n",
       "  <tbody>\n",
       "    <tr>\n",
       "      <th>0</th>\n",
       "      <td>267822</td>\n",
       "      <td>NaN</td>\n",
       "      <td>140</td>\n",
       "      <td>53</td>\n",
       "      <td>36</td>\n",
       "      <td>New York</td>\n",
       "      <td>NY</td>\n",
       "      <td>Hamilton</td>\n",
       "      <td>Hamilton</td>\n",
       "      <td>City</td>\n",
       "      <td>...</td>\n",
       "      <td>44.48629</td>\n",
       "      <td>45.33333</td>\n",
       "      <td>22.51276</td>\n",
       "      <td>685.33845</td>\n",
       "      <td>2618.0</td>\n",
       "      <td>0.79046</td>\n",
       "      <td>0.57851</td>\n",
       "      <td>0.01882</td>\n",
       "      <td>0.01240</td>\n",
       "      <td>0.08770</td>\n",
       "    </tr>\n",
       "    <tr>\n",
       "      <th>1</th>\n",
       "      <td>246444</td>\n",
       "      <td>NaN</td>\n",
       "      <td>140</td>\n",
       "      <td>141</td>\n",
       "      <td>18</td>\n",
       "      <td>Indiana</td>\n",
       "      <td>IN</td>\n",
       "      <td>South Bend</td>\n",
       "      <td>Roseland</td>\n",
       "      <td>City</td>\n",
       "      <td>...</td>\n",
       "      <td>36.48391</td>\n",
       "      <td>37.58333</td>\n",
       "      <td>23.43353</td>\n",
       "      <td>267.23367</td>\n",
       "      <td>1284.0</td>\n",
       "      <td>0.52483</td>\n",
       "      <td>0.34886</td>\n",
       "      <td>0.01426</td>\n",
       "      <td>0.01426</td>\n",
       "      <td>0.09030</td>\n",
       "    </tr>\n",
       "    <tr>\n",
       "      <th>2</th>\n",
       "      <td>245683</td>\n",
       "      <td>NaN</td>\n",
       "      <td>140</td>\n",
       "      <td>63</td>\n",
       "      <td>18</td>\n",
       "      <td>Indiana</td>\n",
       "      <td>IN</td>\n",
       "      <td>Danville</td>\n",
       "      <td>Danville</td>\n",
       "      <td>City</td>\n",
       "      <td>...</td>\n",
       "      <td>42.15810</td>\n",
       "      <td>42.83333</td>\n",
       "      <td>23.94119</td>\n",
       "      <td>707.01963</td>\n",
       "      <td>3238.0</td>\n",
       "      <td>0.85331</td>\n",
       "      <td>0.64745</td>\n",
       "      <td>0.02830</td>\n",
       "      <td>0.01607</td>\n",
       "      <td>0.10657</td>\n",
       "    </tr>\n",
       "    <tr>\n",
       "      <th>3</th>\n",
       "      <td>279653</td>\n",
       "      <td>NaN</td>\n",
       "      <td>140</td>\n",
       "      <td>127</td>\n",
       "      <td>72</td>\n",
       "      <td>Puerto Rico</td>\n",
       "      <td>PR</td>\n",
       "      <td>San Juan</td>\n",
       "      <td>Guaynabo</td>\n",
       "      <td>Urban</td>\n",
       "      <td>...</td>\n",
       "      <td>47.77526</td>\n",
       "      <td>50.58333</td>\n",
       "      <td>24.32015</td>\n",
       "      <td>362.20193</td>\n",
       "      <td>1559.0</td>\n",
       "      <td>0.65037</td>\n",
       "      <td>0.47257</td>\n",
       "      <td>0.02021</td>\n",
       "      <td>0.02021</td>\n",
       "      <td>0.10106</td>\n",
       "    </tr>\n",
       "    <tr>\n",
       "      <th>4</th>\n",
       "      <td>247218</td>\n",
       "      <td>NaN</td>\n",
       "      <td>140</td>\n",
       "      <td>161</td>\n",
       "      <td>20</td>\n",
       "      <td>Kansas</td>\n",
       "      <td>KS</td>\n",
       "      <td>Manhattan</td>\n",
       "      <td>Manhattan City</td>\n",
       "      <td>City</td>\n",
       "      <td>...</td>\n",
       "      <td>24.17693</td>\n",
       "      <td>21.58333</td>\n",
       "      <td>11.10484</td>\n",
       "      <td>1854.48652</td>\n",
       "      <td>3051.0</td>\n",
       "      <td>0.13046</td>\n",
       "      <td>0.12356</td>\n",
       "      <td>0.00000</td>\n",
       "      <td>0.00000</td>\n",
       "      <td>0.03109</td>\n",
       "    </tr>\n",
       "  </tbody>\n",
       "</table>\n",
       "<p>5 rows × 80 columns</p>\n",
       "</div>"
      ],
      "text/plain": [
       "      UID  BLOCKID  SUMLEVEL  COUNTYID  STATEID        state state_ab  \\\n",
       "0  267822      NaN       140        53       36     New York       NY   \n",
       "1  246444      NaN       140       141       18      Indiana       IN   \n",
       "2  245683      NaN       140        63       18      Indiana       IN   \n",
       "3  279653      NaN       140       127       72  Puerto Rico       PR   \n",
       "4  247218      NaN       140       161       20       Kansas       KS   \n",
       "\n",
       "         city           place   type  ... female_age_mean  female_age_median  \\\n",
       "0    Hamilton        Hamilton   City  ...        44.48629           45.33333   \n",
       "1  South Bend        Roseland   City  ...        36.48391           37.58333   \n",
       "2    Danville        Danville   City  ...        42.15810           42.83333   \n",
       "3    San Juan        Guaynabo  Urban  ...        47.77526           50.58333   \n",
       "4   Manhattan  Manhattan City   City  ...        24.17693           21.58333   \n",
       "\n",
       "   female_age_stdev  female_age_sample_weight  female_age_samples  pct_own  \\\n",
       "0          22.51276                 685.33845              2618.0  0.79046   \n",
       "1          23.43353                 267.23367              1284.0  0.52483   \n",
       "2          23.94119                 707.01963              3238.0  0.85331   \n",
       "3          24.32015                 362.20193              1559.0  0.65037   \n",
       "4          11.10484                1854.48652              3051.0  0.13046   \n",
       "\n",
       "   married  married_snp  separated  divorced  \n",
       "0  0.57851      0.01882    0.01240   0.08770  \n",
       "1  0.34886      0.01426    0.01426   0.09030  \n",
       "2  0.64745      0.02830    0.01607   0.10657  \n",
       "3  0.47257      0.02021    0.02021   0.10106  \n",
       "4  0.12356      0.00000    0.00000   0.03109  \n",
       "\n",
       "[5 rows x 80 columns]"
      ]
     },
     "execution_count": 3,
     "metadata": {},
     "output_type": "execute_result"
    }
   ],
   "source": [
    "df_train.head()"
   ]
  },
  {
   "cell_type": "code",
   "execution_count": 4,
   "metadata": {},
   "outputs": [
    {
     "data": {
      "text/html": [
       "<div>\n",
       "<style scoped>\n",
       "    .dataframe tbody tr th:only-of-type {\n",
       "        vertical-align: middle;\n",
       "    }\n",
       "\n",
       "    .dataframe tbody tr th {\n",
       "        vertical-align: top;\n",
       "    }\n",
       "\n",
       "    .dataframe thead th {\n",
       "        text-align: right;\n",
       "    }\n",
       "</style>\n",
       "<table border=\"1\" class=\"dataframe\">\n",
       "  <thead>\n",
       "    <tr style=\"text-align: right;\">\n",
       "      <th></th>\n",
       "      <th>UID</th>\n",
       "      <th>BLOCKID</th>\n",
       "      <th>SUMLEVEL</th>\n",
       "      <th>COUNTYID</th>\n",
       "      <th>STATEID</th>\n",
       "      <th>state</th>\n",
       "      <th>state_ab</th>\n",
       "      <th>city</th>\n",
       "      <th>place</th>\n",
       "      <th>type</th>\n",
       "      <th>...</th>\n",
       "      <th>female_age_mean</th>\n",
       "      <th>female_age_median</th>\n",
       "      <th>female_age_stdev</th>\n",
       "      <th>female_age_sample_weight</th>\n",
       "      <th>female_age_samples</th>\n",
       "      <th>pct_own</th>\n",
       "      <th>married</th>\n",
       "      <th>married_snp</th>\n",
       "      <th>separated</th>\n",
       "      <th>divorced</th>\n",
       "    </tr>\n",
       "  </thead>\n",
       "  <tbody>\n",
       "    <tr>\n",
       "      <th>0</th>\n",
       "      <td>255504</td>\n",
       "      <td>NaN</td>\n",
       "      <td>140</td>\n",
       "      <td>163</td>\n",
       "      <td>26</td>\n",
       "      <td>Michigan</td>\n",
       "      <td>MI</td>\n",
       "      <td>Detroit</td>\n",
       "      <td>Dearborn Heights City</td>\n",
       "      <td>CDP</td>\n",
       "      <td>...</td>\n",
       "      <td>34.78682</td>\n",
       "      <td>33.75000</td>\n",
       "      <td>21.58531</td>\n",
       "      <td>416.48097</td>\n",
       "      <td>1938.0</td>\n",
       "      <td>0.70252</td>\n",
       "      <td>0.28217</td>\n",
       "      <td>0.05910</td>\n",
       "      <td>0.03813</td>\n",
       "      <td>0.14299</td>\n",
       "    </tr>\n",
       "    <tr>\n",
       "      <th>1</th>\n",
       "      <td>252676</td>\n",
       "      <td>NaN</td>\n",
       "      <td>140</td>\n",
       "      <td>1</td>\n",
       "      <td>23</td>\n",
       "      <td>Maine</td>\n",
       "      <td>ME</td>\n",
       "      <td>Auburn</td>\n",
       "      <td>Auburn City</td>\n",
       "      <td>City</td>\n",
       "      <td>...</td>\n",
       "      <td>44.23451</td>\n",
       "      <td>46.66667</td>\n",
       "      <td>22.37036</td>\n",
       "      <td>532.03505</td>\n",
       "      <td>1950.0</td>\n",
       "      <td>0.85128</td>\n",
       "      <td>0.64221</td>\n",
       "      <td>0.02338</td>\n",
       "      <td>0.00000</td>\n",
       "      <td>0.13377</td>\n",
       "    </tr>\n",
       "    <tr>\n",
       "      <th>2</th>\n",
       "      <td>276314</td>\n",
       "      <td>NaN</td>\n",
       "      <td>140</td>\n",
       "      <td>15</td>\n",
       "      <td>42</td>\n",
       "      <td>Pennsylvania</td>\n",
       "      <td>PA</td>\n",
       "      <td>Pine City</td>\n",
       "      <td>Millerton</td>\n",
       "      <td>Borough</td>\n",
       "      <td>...</td>\n",
       "      <td>41.62426</td>\n",
       "      <td>44.50000</td>\n",
       "      <td>22.86213</td>\n",
       "      <td>453.11959</td>\n",
       "      <td>1879.0</td>\n",
       "      <td>0.81897</td>\n",
       "      <td>0.59961</td>\n",
       "      <td>0.01746</td>\n",
       "      <td>0.01358</td>\n",
       "      <td>0.10026</td>\n",
       "    </tr>\n",
       "    <tr>\n",
       "      <th>3</th>\n",
       "      <td>248614</td>\n",
       "      <td>NaN</td>\n",
       "      <td>140</td>\n",
       "      <td>231</td>\n",
       "      <td>21</td>\n",
       "      <td>Kentucky</td>\n",
       "      <td>KY</td>\n",
       "      <td>Monticello</td>\n",
       "      <td>Monticello City</td>\n",
       "      <td>City</td>\n",
       "      <td>...</td>\n",
       "      <td>44.81200</td>\n",
       "      <td>48.00000</td>\n",
       "      <td>21.03155</td>\n",
       "      <td>263.94320</td>\n",
       "      <td>1081.0</td>\n",
       "      <td>0.84609</td>\n",
       "      <td>0.56953</td>\n",
       "      <td>0.05492</td>\n",
       "      <td>0.04694</td>\n",
       "      <td>0.12489</td>\n",
       "    </tr>\n",
       "    <tr>\n",
       "      <th>4</th>\n",
       "      <td>286865</td>\n",
       "      <td>NaN</td>\n",
       "      <td>140</td>\n",
       "      <td>355</td>\n",
       "      <td>48</td>\n",
       "      <td>Texas</td>\n",
       "      <td>TX</td>\n",
       "      <td>Corpus Christi</td>\n",
       "      <td>Edroy</td>\n",
       "      <td>Town</td>\n",
       "      <td>...</td>\n",
       "      <td>40.66618</td>\n",
       "      <td>42.66667</td>\n",
       "      <td>21.30900</td>\n",
       "      <td>709.90829</td>\n",
       "      <td>2956.0</td>\n",
       "      <td>0.79077</td>\n",
       "      <td>0.57620</td>\n",
       "      <td>0.01726</td>\n",
       "      <td>0.00588</td>\n",
       "      <td>0.16379</td>\n",
       "    </tr>\n",
       "  </tbody>\n",
       "</table>\n",
       "<p>5 rows × 80 columns</p>\n",
       "</div>"
      ],
      "text/plain": [
       "      UID  BLOCKID  SUMLEVEL  COUNTYID  STATEID         state state_ab  \\\n",
       "0  255504      NaN       140       163       26      Michigan       MI   \n",
       "1  252676      NaN       140         1       23         Maine       ME   \n",
       "2  276314      NaN       140        15       42  Pennsylvania       PA   \n",
       "3  248614      NaN       140       231       21      Kentucky       KY   \n",
       "4  286865      NaN       140       355       48         Texas       TX   \n",
       "\n",
       "             city                  place     type  ... female_age_mean  \\\n",
       "0         Detroit  Dearborn Heights City      CDP  ...        34.78682   \n",
       "1          Auburn            Auburn City     City  ...        44.23451   \n",
       "2       Pine City              Millerton  Borough  ...        41.62426   \n",
       "3      Monticello        Monticello City     City  ...        44.81200   \n",
       "4  Corpus Christi                  Edroy     Town  ...        40.66618   \n",
       "\n",
       "   female_age_median  female_age_stdev  female_age_sample_weight  \\\n",
       "0           33.75000          21.58531                 416.48097   \n",
       "1           46.66667          22.37036                 532.03505   \n",
       "2           44.50000          22.86213                 453.11959   \n",
       "3           48.00000          21.03155                 263.94320   \n",
       "4           42.66667          21.30900                 709.90829   \n",
       "\n",
       "   female_age_samples  pct_own  married  married_snp  separated  divorced  \n",
       "0              1938.0  0.70252  0.28217      0.05910    0.03813   0.14299  \n",
       "1              1950.0  0.85128  0.64221      0.02338    0.00000   0.13377  \n",
       "2              1879.0  0.81897  0.59961      0.01746    0.01358   0.10026  \n",
       "3              1081.0  0.84609  0.56953      0.05492    0.04694   0.12489  \n",
       "4              2956.0  0.79077  0.57620      0.01726    0.00588   0.16379  \n",
       "\n",
       "[5 rows x 80 columns]"
      ]
     },
     "execution_count": 4,
     "metadata": {},
     "output_type": "execute_result"
    }
   ],
   "source": [
    "df_test.head()"
   ]
  },
  {
   "cell_type": "code",
   "execution_count": 5,
   "metadata": {},
   "outputs": [
    {
     "data": {
      "text/plain": [
       "(27321, 80)"
      ]
     },
     "execution_count": 5,
     "metadata": {},
     "output_type": "execute_result"
    }
   ],
   "source": [
    "df_train.shape"
   ]
  },
  {
   "cell_type": "code",
   "execution_count": 6,
   "metadata": {},
   "outputs": [
    {
     "data": {
      "text/plain": [
       "(11709, 80)"
      ]
     },
     "execution_count": 6,
     "metadata": {},
     "output_type": "execute_result"
    }
   ],
   "source": [
    "df_test.shape"
   ]
  },
  {
   "cell_type": "code",
   "execution_count": 7,
   "metadata": {},
   "outputs": [
    {
     "data": {
      "text/html": [
       "<div>\n",
       "<style scoped>\n",
       "    .dataframe tbody tr th:only-of-type {\n",
       "        vertical-align: middle;\n",
       "    }\n",
       "\n",
       "    .dataframe tbody tr th {\n",
       "        vertical-align: top;\n",
       "    }\n",
       "\n",
       "    .dataframe thead th {\n",
       "        text-align: right;\n",
       "    }\n",
       "</style>\n",
       "<table border=\"1\" class=\"dataframe\">\n",
       "  <thead>\n",
       "    <tr style=\"text-align: right;\">\n",
       "      <th></th>\n",
       "      <th>UID</th>\n",
       "      <th>BLOCKID</th>\n",
       "      <th>SUMLEVEL</th>\n",
       "      <th>COUNTYID</th>\n",
       "      <th>STATEID</th>\n",
       "      <th>zip_code</th>\n",
       "      <th>area_code</th>\n",
       "      <th>lat</th>\n",
       "      <th>lng</th>\n",
       "      <th>ALand</th>\n",
       "      <th>...</th>\n",
       "      <th>female_age_mean</th>\n",
       "      <th>female_age_median</th>\n",
       "      <th>female_age_stdev</th>\n",
       "      <th>female_age_sample_weight</th>\n",
       "      <th>female_age_samples</th>\n",
       "      <th>pct_own</th>\n",
       "      <th>married</th>\n",
       "      <th>married_snp</th>\n",
       "      <th>separated</th>\n",
       "      <th>divorced</th>\n",
       "    </tr>\n",
       "  </thead>\n",
       "  <tbody>\n",
       "    <tr>\n",
       "      <th>count</th>\n",
       "      <td>27321.000000</td>\n",
       "      <td>0.0</td>\n",
       "      <td>27321.0</td>\n",
       "      <td>27321.000000</td>\n",
       "      <td>27321.000000</td>\n",
       "      <td>27321.000000</td>\n",
       "      <td>27321.000000</td>\n",
       "      <td>27321.000000</td>\n",
       "      <td>27321.000000</td>\n",
       "      <td>2.732100e+04</td>\n",
       "      <td>...</td>\n",
       "      <td>27115.000000</td>\n",
       "      <td>27115.000000</td>\n",
       "      <td>27115.000000</td>\n",
       "      <td>27115.000000</td>\n",
       "      <td>27115.000000</td>\n",
       "      <td>27053.000000</td>\n",
       "      <td>27130.000000</td>\n",
       "      <td>27130.000000</td>\n",
       "      <td>27130.000000</td>\n",
       "      <td>27130.000000</td>\n",
       "    </tr>\n",
       "    <tr>\n",
       "      <th>mean</th>\n",
       "      <td>257331.996303</td>\n",
       "      <td>NaN</td>\n",
       "      <td>140.0</td>\n",
       "      <td>85.646426</td>\n",
       "      <td>28.271806</td>\n",
       "      <td>50081.999524</td>\n",
       "      <td>596.507668</td>\n",
       "      <td>37.508813</td>\n",
       "      <td>-91.288394</td>\n",
       "      <td>1.295106e+08</td>\n",
       "      <td>...</td>\n",
       "      <td>40.319803</td>\n",
       "      <td>40.355099</td>\n",
       "      <td>22.178745</td>\n",
       "      <td>544.238432</td>\n",
       "      <td>2208.761903</td>\n",
       "      <td>0.640434</td>\n",
       "      <td>0.508300</td>\n",
       "      <td>0.047537</td>\n",
       "      <td>0.019089</td>\n",
       "      <td>0.100248</td>\n",
       "    </tr>\n",
       "    <tr>\n",
       "      <th>std</th>\n",
       "      <td>21343.859725</td>\n",
       "      <td>NaN</td>\n",
       "      <td>0.0</td>\n",
       "      <td>98.333097</td>\n",
       "      <td>16.392846</td>\n",
       "      <td>29558.115660</td>\n",
       "      <td>232.497482</td>\n",
       "      <td>5.588268</td>\n",
       "      <td>16.343816</td>\n",
       "      <td>1.275531e+09</td>\n",
       "      <td>...</td>\n",
       "      <td>5.886317</td>\n",
       "      <td>8.039585</td>\n",
       "      <td>2.540257</td>\n",
       "      <td>283.546896</td>\n",
       "      <td>1089.316999</td>\n",
       "      <td>0.226640</td>\n",
       "      <td>0.136860</td>\n",
       "      <td>0.037640</td>\n",
       "      <td>0.020796</td>\n",
       "      <td>0.049055</td>\n",
       "    </tr>\n",
       "    <tr>\n",
       "      <th>min</th>\n",
       "      <td>220342.000000</td>\n",
       "      <td>NaN</td>\n",
       "      <td>140.0</td>\n",
       "      <td>1.000000</td>\n",
       "      <td>1.000000</td>\n",
       "      <td>602.000000</td>\n",
       "      <td>201.000000</td>\n",
       "      <td>17.929085</td>\n",
       "      <td>-165.453872</td>\n",
       "      <td>4.113400e+04</td>\n",
       "      <td>...</td>\n",
       "      <td>16.008330</td>\n",
       "      <td>13.250000</td>\n",
       "      <td>0.556780</td>\n",
       "      <td>0.664700</td>\n",
       "      <td>2.000000</td>\n",
       "      <td>0.000000</td>\n",
       "      <td>0.000000</td>\n",
       "      <td>0.000000</td>\n",
       "      <td>0.000000</td>\n",
       "      <td>0.000000</td>\n",
       "    </tr>\n",
       "    <tr>\n",
       "      <th>25%</th>\n",
       "      <td>238816.000000</td>\n",
       "      <td>NaN</td>\n",
       "      <td>140.0</td>\n",
       "      <td>29.000000</td>\n",
       "      <td>13.000000</td>\n",
       "      <td>26554.000000</td>\n",
       "      <td>405.000000</td>\n",
       "      <td>33.899064</td>\n",
       "      <td>-97.816067</td>\n",
       "      <td>1.799408e+06</td>\n",
       "      <td>...</td>\n",
       "      <td>36.892050</td>\n",
       "      <td>34.916670</td>\n",
       "      <td>21.312135</td>\n",
       "      <td>355.995825</td>\n",
       "      <td>1471.000000</td>\n",
       "      <td>0.502780</td>\n",
       "      <td>0.425102</td>\n",
       "      <td>0.020810</td>\n",
       "      <td>0.004530</td>\n",
       "      <td>0.065800</td>\n",
       "    </tr>\n",
       "    <tr>\n",
       "      <th>50%</th>\n",
       "      <td>257220.000000</td>\n",
       "      <td>NaN</td>\n",
       "      <td>140.0</td>\n",
       "      <td>63.000000</td>\n",
       "      <td>28.000000</td>\n",
       "      <td>47715.000000</td>\n",
       "      <td>614.000000</td>\n",
       "      <td>38.755183</td>\n",
       "      <td>-86.554374</td>\n",
       "      <td>4.866940e+06</td>\n",
       "      <td>...</td>\n",
       "      <td>40.373320</td>\n",
       "      <td>40.583330</td>\n",
       "      <td>22.514410</td>\n",
       "      <td>503.643890</td>\n",
       "      <td>2066.000000</td>\n",
       "      <td>0.690840</td>\n",
       "      <td>0.526665</td>\n",
       "      <td>0.038840</td>\n",
       "      <td>0.013460</td>\n",
       "      <td>0.095205</td>\n",
       "    </tr>\n",
       "    <tr>\n",
       "      <th>75%</th>\n",
       "      <td>275818.000000</td>\n",
       "      <td>NaN</td>\n",
       "      <td>140.0</td>\n",
       "      <td>109.000000</td>\n",
       "      <td>42.000000</td>\n",
       "      <td>77093.000000</td>\n",
       "      <td>801.000000</td>\n",
       "      <td>41.380606</td>\n",
       "      <td>-79.782503</td>\n",
       "      <td>3.359820e+07</td>\n",
       "      <td>...</td>\n",
       "      <td>43.567120</td>\n",
       "      <td>45.416670</td>\n",
       "      <td>23.575260</td>\n",
       "      <td>680.275055</td>\n",
       "      <td>2772.000000</td>\n",
       "      <td>0.817460</td>\n",
       "      <td>0.605760</td>\n",
       "      <td>0.065100</td>\n",
       "      <td>0.027487</td>\n",
       "      <td>0.129000</td>\n",
       "    </tr>\n",
       "    <tr>\n",
       "      <th>max</th>\n",
       "      <td>294334.000000</td>\n",
       "      <td>NaN</td>\n",
       "      <td>140.0</td>\n",
       "      <td>840.000000</td>\n",
       "      <td>72.000000</td>\n",
       "      <td>99925.000000</td>\n",
       "      <td>989.000000</td>\n",
       "      <td>67.074018</td>\n",
       "      <td>-65.379332</td>\n",
       "      <td>1.039510e+11</td>\n",
       "      <td>...</td>\n",
       "      <td>79.837390</td>\n",
       "      <td>82.250000</td>\n",
       "      <td>30.241270</td>\n",
       "      <td>6197.995200</td>\n",
       "      <td>27250.000000</td>\n",
       "      <td>1.000000</td>\n",
       "      <td>1.000000</td>\n",
       "      <td>0.714290</td>\n",
       "      <td>0.714290</td>\n",
       "      <td>1.000000</td>\n",
       "    </tr>\n",
       "  </tbody>\n",
       "</table>\n",
       "<p>8 rows × 74 columns</p>\n",
       "</div>"
      ],
      "text/plain": [
       "                 UID  BLOCKID  SUMLEVEL      COUNTYID       STATEID  \\\n",
       "count   27321.000000      0.0   27321.0  27321.000000  27321.000000   \n",
       "mean   257331.996303      NaN     140.0     85.646426     28.271806   \n",
       "std     21343.859725      NaN       0.0     98.333097     16.392846   \n",
       "min    220342.000000      NaN     140.0      1.000000      1.000000   \n",
       "25%    238816.000000      NaN     140.0     29.000000     13.000000   \n",
       "50%    257220.000000      NaN     140.0     63.000000     28.000000   \n",
       "75%    275818.000000      NaN     140.0    109.000000     42.000000   \n",
       "max    294334.000000      NaN     140.0    840.000000     72.000000   \n",
       "\n",
       "           zip_code     area_code           lat           lng         ALand  \\\n",
       "count  27321.000000  27321.000000  27321.000000  27321.000000  2.732100e+04   \n",
       "mean   50081.999524    596.507668     37.508813    -91.288394  1.295106e+08   \n",
       "std    29558.115660    232.497482      5.588268     16.343816  1.275531e+09   \n",
       "min      602.000000    201.000000     17.929085   -165.453872  4.113400e+04   \n",
       "25%    26554.000000    405.000000     33.899064    -97.816067  1.799408e+06   \n",
       "50%    47715.000000    614.000000     38.755183    -86.554374  4.866940e+06   \n",
       "75%    77093.000000    801.000000     41.380606    -79.782503  3.359820e+07   \n",
       "max    99925.000000    989.000000     67.074018    -65.379332  1.039510e+11   \n",
       "\n",
       "       ...  female_age_mean  female_age_median  female_age_stdev  \\\n",
       "count  ...     27115.000000       27115.000000      27115.000000   \n",
       "mean   ...        40.319803          40.355099         22.178745   \n",
       "std    ...         5.886317           8.039585          2.540257   \n",
       "min    ...        16.008330          13.250000          0.556780   \n",
       "25%    ...        36.892050          34.916670         21.312135   \n",
       "50%    ...        40.373320          40.583330         22.514410   \n",
       "75%    ...        43.567120          45.416670         23.575260   \n",
       "max    ...        79.837390          82.250000         30.241270   \n",
       "\n",
       "       female_age_sample_weight  female_age_samples       pct_own  \\\n",
       "count              27115.000000        27115.000000  27053.000000   \n",
       "mean                 544.238432         2208.761903      0.640434   \n",
       "std                  283.546896         1089.316999      0.226640   \n",
       "min                    0.664700            2.000000      0.000000   \n",
       "25%                  355.995825         1471.000000      0.502780   \n",
       "50%                  503.643890         2066.000000      0.690840   \n",
       "75%                  680.275055         2772.000000      0.817460   \n",
       "max                 6197.995200        27250.000000      1.000000   \n",
       "\n",
       "            married   married_snp     separated      divorced  \n",
       "count  27130.000000  27130.000000  27130.000000  27130.000000  \n",
       "mean       0.508300      0.047537      0.019089      0.100248  \n",
       "std        0.136860      0.037640      0.020796      0.049055  \n",
       "min        0.000000      0.000000      0.000000      0.000000  \n",
       "25%        0.425102      0.020810      0.004530      0.065800  \n",
       "50%        0.526665      0.038840      0.013460      0.095205  \n",
       "75%        0.605760      0.065100      0.027487      0.129000  \n",
       "max        1.000000      0.714290      0.714290      1.000000  \n",
       "\n",
       "[8 rows x 74 columns]"
      ]
     },
     "execution_count": 7,
     "metadata": {},
     "output_type": "execute_result"
    }
   ],
   "source": [
    "# Decription of data in thedataframe\n",
    "df_train.describe()"
   ]
  },
  {
   "cell_type": "code",
   "execution_count": 8,
   "metadata": {},
   "outputs": [
    {
     "data": {
      "text/html": [
       "<div>\n",
       "<style scoped>\n",
       "    .dataframe tbody tr th:only-of-type {\n",
       "        vertical-align: middle;\n",
       "    }\n",
       "\n",
       "    .dataframe tbody tr th {\n",
       "        vertical-align: top;\n",
       "    }\n",
       "\n",
       "    .dataframe thead th {\n",
       "        text-align: right;\n",
       "    }\n",
       "</style>\n",
       "<table border=\"1\" class=\"dataframe\">\n",
       "  <thead>\n",
       "    <tr style=\"text-align: right;\">\n",
       "      <th></th>\n",
       "      <th>UID</th>\n",
       "      <th>BLOCKID</th>\n",
       "      <th>SUMLEVEL</th>\n",
       "      <th>COUNTYID</th>\n",
       "      <th>STATEID</th>\n",
       "      <th>zip_code</th>\n",
       "      <th>area_code</th>\n",
       "      <th>lat</th>\n",
       "      <th>lng</th>\n",
       "      <th>ALand</th>\n",
       "      <th>...</th>\n",
       "      <th>female_age_mean</th>\n",
       "      <th>female_age_median</th>\n",
       "      <th>female_age_stdev</th>\n",
       "      <th>female_age_sample_weight</th>\n",
       "      <th>female_age_samples</th>\n",
       "      <th>pct_own</th>\n",
       "      <th>married</th>\n",
       "      <th>married_snp</th>\n",
       "      <th>separated</th>\n",
       "      <th>divorced</th>\n",
       "    </tr>\n",
       "  </thead>\n",
       "  <tbody>\n",
       "    <tr>\n",
       "      <th>count</th>\n",
       "      <td>11709.000000</td>\n",
       "      <td>0.0</td>\n",
       "      <td>11709.0</td>\n",
       "      <td>11709.000000</td>\n",
       "      <td>11709.000000</td>\n",
       "      <td>11709.000000</td>\n",
       "      <td>11709.000000</td>\n",
       "      <td>11709.000000</td>\n",
       "      <td>11709.000000</td>\n",
       "      <td>1.170900e+04</td>\n",
       "      <td>...</td>\n",
       "      <td>11613.000000</td>\n",
       "      <td>11613.000000</td>\n",
       "      <td>11613.000000</td>\n",
       "      <td>11613.000000</td>\n",
       "      <td>11613.000000</td>\n",
       "      <td>11587.000000</td>\n",
       "      <td>11625.000000</td>\n",
       "      <td>11625.000000</td>\n",
       "      <td>11625.000000</td>\n",
       "      <td>11625.000000</td>\n",
       "    </tr>\n",
       "    <tr>\n",
       "      <th>mean</th>\n",
       "      <td>257525.004783</td>\n",
       "      <td>NaN</td>\n",
       "      <td>140.0</td>\n",
       "      <td>85.710650</td>\n",
       "      <td>28.489196</td>\n",
       "      <td>50123.418396</td>\n",
       "      <td>593.598514</td>\n",
       "      <td>37.405491</td>\n",
       "      <td>-91.340229</td>\n",
       "      <td>1.095500e+08</td>\n",
       "      <td>...</td>\n",
       "      <td>40.111999</td>\n",
       "      <td>40.131864</td>\n",
       "      <td>22.148145</td>\n",
       "      <td>550.411243</td>\n",
       "      <td>2233.003186</td>\n",
       "      <td>0.634194</td>\n",
       "      <td>0.505632</td>\n",
       "      <td>0.047960</td>\n",
       "      <td>0.019346</td>\n",
       "      <td>0.099191</td>\n",
       "    </tr>\n",
       "    <tr>\n",
       "      <th>std</th>\n",
       "      <td>21466.372658</td>\n",
       "      <td>NaN</td>\n",
       "      <td>0.0</td>\n",
       "      <td>99.304334</td>\n",
       "      <td>16.607262</td>\n",
       "      <td>29775.134038</td>\n",
       "      <td>232.074263</td>\n",
       "      <td>5.625904</td>\n",
       "      <td>16.407818</td>\n",
       "      <td>7.624940e+08</td>\n",
       "      <td>...</td>\n",
       "      <td>5.851192</td>\n",
       "      <td>7.972026</td>\n",
       "      <td>2.554907</td>\n",
       "      <td>280.992521</td>\n",
       "      <td>1072.017063</td>\n",
       "      <td>0.232232</td>\n",
       "      <td>0.139774</td>\n",
       "      <td>0.038693</td>\n",
       "      <td>0.021428</td>\n",
       "      <td>0.048525</td>\n",
       "    </tr>\n",
       "    <tr>\n",
       "      <th>min</th>\n",
       "      <td>220336.000000</td>\n",
       "      <td>NaN</td>\n",
       "      <td>140.0</td>\n",
       "      <td>1.000000</td>\n",
       "      <td>1.000000</td>\n",
       "      <td>601.000000</td>\n",
       "      <td>201.000000</td>\n",
       "      <td>17.965835</td>\n",
       "      <td>-166.770979</td>\n",
       "      <td>8.299000e+03</td>\n",
       "      <td>...</td>\n",
       "      <td>15.360240</td>\n",
       "      <td>12.833330</td>\n",
       "      <td>0.737110</td>\n",
       "      <td>0.251910</td>\n",
       "      <td>3.000000</td>\n",
       "      <td>0.000000</td>\n",
       "      <td>0.000000</td>\n",
       "      <td>0.000000</td>\n",
       "      <td>0.000000</td>\n",
       "      <td>0.000000</td>\n",
       "    </tr>\n",
       "    <tr>\n",
       "      <th>25%</th>\n",
       "      <td>238819.000000</td>\n",
       "      <td>NaN</td>\n",
       "      <td>140.0</td>\n",
       "      <td>29.000000</td>\n",
       "      <td>13.000000</td>\n",
       "      <td>25570.000000</td>\n",
       "      <td>404.000000</td>\n",
       "      <td>33.919813</td>\n",
       "      <td>-97.816561</td>\n",
       "      <td>1.718660e+06</td>\n",
       "      <td>...</td>\n",
       "      <td>36.729210</td>\n",
       "      <td>34.750000</td>\n",
       "      <td>21.270920</td>\n",
       "      <td>363.225840</td>\n",
       "      <td>1499.000000</td>\n",
       "      <td>0.492500</td>\n",
       "      <td>0.422020</td>\n",
       "      <td>0.020890</td>\n",
       "      <td>0.004500</td>\n",
       "      <td>0.064590</td>\n",
       "    </tr>\n",
       "    <tr>\n",
       "      <th>50%</th>\n",
       "      <td>257651.000000</td>\n",
       "      <td>NaN</td>\n",
       "      <td>140.0</td>\n",
       "      <td>61.000000</td>\n",
       "      <td>28.000000</td>\n",
       "      <td>47362.000000</td>\n",
       "      <td>612.000000</td>\n",
       "      <td>38.618092</td>\n",
       "      <td>-86.643344</td>\n",
       "      <td>4.835000e+06</td>\n",
       "      <td>...</td>\n",
       "      <td>40.196960</td>\n",
       "      <td>40.333330</td>\n",
       "      <td>22.472990</td>\n",
       "      <td>509.103610</td>\n",
       "      <td>2099.000000</td>\n",
       "      <td>0.687640</td>\n",
       "      <td>0.525270</td>\n",
       "      <td>0.038680</td>\n",
       "      <td>0.013870</td>\n",
       "      <td>0.094350</td>\n",
       "    </tr>\n",
       "    <tr>\n",
       "      <th>75%</th>\n",
       "      <td>276300.000000</td>\n",
       "      <td>NaN</td>\n",
       "      <td>140.0</td>\n",
       "      <td>109.000000</td>\n",
       "      <td>42.000000</td>\n",
       "      <td>77406.000000</td>\n",
       "      <td>787.000000</td>\n",
       "      <td>41.232973</td>\n",
       "      <td>-79.697311</td>\n",
       "      <td>3.204540e+07</td>\n",
       "      <td>...</td>\n",
       "      <td>43.496490</td>\n",
       "      <td>45.333330</td>\n",
       "      <td>23.549450</td>\n",
       "      <td>685.883910</td>\n",
       "      <td>2800.000000</td>\n",
       "      <td>0.815235</td>\n",
       "      <td>0.605660</td>\n",
       "      <td>0.065340</td>\n",
       "      <td>0.027910</td>\n",
       "      <td>0.128400</td>\n",
       "    </tr>\n",
       "    <tr>\n",
       "      <th>max</th>\n",
       "      <td>294333.000000</td>\n",
       "      <td>NaN</td>\n",
       "      <td>140.0</td>\n",
       "      <td>810.000000</td>\n",
       "      <td>72.000000</td>\n",
       "      <td>99929.000000</td>\n",
       "      <td>989.000000</td>\n",
       "      <td>64.804269</td>\n",
       "      <td>-65.695344</td>\n",
       "      <td>5.520166e+10</td>\n",
       "      <td>...</td>\n",
       "      <td>90.107940</td>\n",
       "      <td>90.166670</td>\n",
       "      <td>29.626680</td>\n",
       "      <td>4145.557870</td>\n",
       "      <td>15466.000000</td>\n",
       "      <td>1.000000</td>\n",
       "      <td>1.000000</td>\n",
       "      <td>0.714290</td>\n",
       "      <td>0.714290</td>\n",
       "      <td>0.362750</td>\n",
       "    </tr>\n",
       "  </tbody>\n",
       "</table>\n",
       "<p>8 rows × 74 columns</p>\n",
       "</div>"
      ],
      "text/plain": [
       "                 UID  BLOCKID  SUMLEVEL      COUNTYID       STATEID  \\\n",
       "count   11709.000000      0.0   11709.0  11709.000000  11709.000000   \n",
       "mean   257525.004783      NaN     140.0     85.710650     28.489196   \n",
       "std     21466.372658      NaN       0.0     99.304334     16.607262   \n",
       "min    220336.000000      NaN     140.0      1.000000      1.000000   \n",
       "25%    238819.000000      NaN     140.0     29.000000     13.000000   \n",
       "50%    257651.000000      NaN     140.0     61.000000     28.000000   \n",
       "75%    276300.000000      NaN     140.0    109.000000     42.000000   \n",
       "max    294333.000000      NaN     140.0    810.000000     72.000000   \n",
       "\n",
       "           zip_code     area_code           lat           lng         ALand  \\\n",
       "count  11709.000000  11709.000000  11709.000000  11709.000000  1.170900e+04   \n",
       "mean   50123.418396    593.598514     37.405491    -91.340229  1.095500e+08   \n",
       "std    29775.134038    232.074263      5.625904     16.407818  7.624940e+08   \n",
       "min      601.000000    201.000000     17.965835   -166.770979  8.299000e+03   \n",
       "25%    25570.000000    404.000000     33.919813    -97.816561  1.718660e+06   \n",
       "50%    47362.000000    612.000000     38.618092    -86.643344  4.835000e+06   \n",
       "75%    77406.000000    787.000000     41.232973    -79.697311  3.204540e+07   \n",
       "max    99929.000000    989.000000     64.804269    -65.695344  5.520166e+10   \n",
       "\n",
       "       ...  female_age_mean  female_age_median  female_age_stdev  \\\n",
       "count  ...     11613.000000       11613.000000      11613.000000   \n",
       "mean   ...        40.111999          40.131864         22.148145   \n",
       "std    ...         5.851192           7.972026          2.554907   \n",
       "min    ...        15.360240          12.833330          0.737110   \n",
       "25%    ...        36.729210          34.750000         21.270920   \n",
       "50%    ...        40.196960          40.333330         22.472990   \n",
       "75%    ...        43.496490          45.333330         23.549450   \n",
       "max    ...        90.107940          90.166670         29.626680   \n",
       "\n",
       "       female_age_sample_weight  female_age_samples       pct_own  \\\n",
       "count              11613.000000        11613.000000  11587.000000   \n",
       "mean                 550.411243         2233.003186      0.634194   \n",
       "std                  280.992521         1072.017063      0.232232   \n",
       "min                    0.251910            3.000000      0.000000   \n",
       "25%                  363.225840         1499.000000      0.492500   \n",
       "50%                  509.103610         2099.000000      0.687640   \n",
       "75%                  685.883910         2800.000000      0.815235   \n",
       "max                 4145.557870        15466.000000      1.000000   \n",
       "\n",
       "            married   married_snp     separated      divorced  \n",
       "count  11625.000000  11625.000000  11625.000000  11625.000000  \n",
       "mean       0.505632      0.047960      0.019346      0.099191  \n",
       "std        0.139774      0.038693      0.021428      0.048525  \n",
       "min        0.000000      0.000000      0.000000      0.000000  \n",
       "25%        0.422020      0.020890      0.004500      0.064590  \n",
       "50%        0.525270      0.038680      0.013870      0.094350  \n",
       "75%        0.605660      0.065340      0.027910      0.128400  \n",
       "max        1.000000      0.714290      0.714290      0.362750  \n",
       "\n",
       "[8 rows x 74 columns]"
      ]
     },
     "execution_count": 8,
     "metadata": {},
     "output_type": "execute_result"
    }
   ],
   "source": [
    "# Decription of data in thedataframe\n",
    "df_test.describe()"
   ]
  },
  {
   "cell_type": "code",
   "execution_count": 9,
   "metadata": {},
   "outputs": [
    {
     "name": "stdout",
     "output_type": "stream",
     "text": [
      "<class 'pandas.core.frame.DataFrame'>\n",
      "RangeIndex: 27321 entries, 0 to 27320\n",
      "Data columns (total 80 columns):\n",
      " #   Column                       Non-Null Count  Dtype  \n",
      "---  ------                       --------------  -----  \n",
      " 0   UID                          27321 non-null  int64  \n",
      " 1   BLOCKID                      0 non-null      float64\n",
      " 2   SUMLEVEL                     27321 non-null  int64  \n",
      " 3   COUNTYID                     27321 non-null  int64  \n",
      " 4   STATEID                      27321 non-null  int64  \n",
      " 5   state                        27321 non-null  object \n",
      " 6   state_ab                     27321 non-null  object \n",
      " 7   city                         27321 non-null  object \n",
      " 8   place                        27321 non-null  object \n",
      " 9   type                         27321 non-null  object \n",
      " 10  primary                      27321 non-null  object \n",
      " 11  zip_code                     27321 non-null  int64  \n",
      " 12  area_code                    27321 non-null  int64  \n",
      " 13  lat                          27321 non-null  float64\n",
      " 14  lng                          27321 non-null  float64\n",
      " 15  ALand                        27321 non-null  float64\n",
      " 16  AWater                       27321 non-null  int64  \n",
      " 17  pop                          27321 non-null  int64  \n",
      " 18  male_pop                     27321 non-null  int64  \n",
      " 19  female_pop                   27321 non-null  int64  \n",
      " 20  rent_mean                    27007 non-null  float64\n",
      " 21  rent_median                  27007 non-null  float64\n",
      " 22  rent_stdev                   27007 non-null  float64\n",
      " 23  rent_sample_weight           27007 non-null  float64\n",
      " 24  rent_samples                 27007 non-null  float64\n",
      " 25  rent_gt_10                   27007 non-null  float64\n",
      " 26  rent_gt_15                   27007 non-null  float64\n",
      " 27  rent_gt_20                   27007 non-null  float64\n",
      " 28  rent_gt_25                   27007 non-null  float64\n",
      " 29  rent_gt_30                   27007 non-null  float64\n",
      " 30  rent_gt_35                   27007 non-null  float64\n",
      " 31  rent_gt_40                   27007 non-null  float64\n",
      " 32  rent_gt_50                   27007 non-null  float64\n",
      " 33  universe_samples             27321 non-null  int64  \n",
      " 34  used_samples                 27321 non-null  int64  \n",
      " 35  hi_mean                      27053 non-null  float64\n",
      " 36  hi_median                    27053 non-null  float64\n",
      " 37  hi_stdev                     27053 non-null  float64\n",
      " 38  hi_sample_weight             27053 non-null  float64\n",
      " 39  hi_samples                   27053 non-null  float64\n",
      " 40  family_mean                  27023 non-null  float64\n",
      " 41  family_median                27023 non-null  float64\n",
      " 42  family_stdev                 27023 non-null  float64\n",
      " 43  family_sample_weight         27023 non-null  float64\n",
      " 44  family_samples               27023 non-null  float64\n",
      " 45  hc_mortgage_mean             26748 non-null  float64\n",
      " 46  hc_mortgage_median           26748 non-null  float64\n",
      " 47  hc_mortgage_stdev            26748 non-null  float64\n",
      " 48  hc_mortgage_sample_weight    26748 non-null  float64\n",
      " 49  hc_mortgage_samples          26748 non-null  float64\n",
      " 50  hc_mean                      26721 non-null  float64\n",
      " 51  hc_median                    26721 non-null  float64\n",
      " 52  hc_stdev                     26721 non-null  float64\n",
      " 53  hc_samples                   26721 non-null  float64\n",
      " 54  hc_sample_weight             26721 non-null  float64\n",
      " 55  home_equity_second_mortgage  26864 non-null  float64\n",
      " 56  second_mortgage              26864 non-null  float64\n",
      " 57  home_equity                  26864 non-null  float64\n",
      " 58  debt                         26864 non-null  float64\n",
      " 59  second_mortgage_cdf          26864 non-null  float64\n",
      " 60  home_equity_cdf              26864 non-null  float64\n",
      " 61  debt_cdf                     26864 non-null  float64\n",
      " 62  hs_degree                    27131 non-null  float64\n",
      " 63  hs_degree_male               27121 non-null  float64\n",
      " 64  hs_degree_female             27098 non-null  float64\n",
      " 65  male_age_mean                27132 non-null  float64\n",
      " 66  male_age_median              27132 non-null  float64\n",
      " 67  male_age_stdev               27132 non-null  float64\n",
      " 68  male_age_sample_weight       27132 non-null  float64\n",
      " 69  male_age_samples             27132 non-null  float64\n",
      " 70  female_age_mean              27115 non-null  float64\n",
      " 71  female_age_median            27115 non-null  float64\n",
      " 72  female_age_stdev             27115 non-null  float64\n",
      " 73  female_age_sample_weight     27115 non-null  float64\n",
      " 74  female_age_samples           27115 non-null  float64\n",
      " 75  pct_own                      27053 non-null  float64\n",
      " 76  married                      27130 non-null  float64\n",
      " 77  married_snp                  27130 non-null  float64\n",
      " 78  separated                    27130 non-null  float64\n",
      " 79  divorced                     27130 non-null  float64\n",
      "dtypes: float64(62), int64(12), object(6)\n",
      "memory usage: 16.7+ MB\n"
     ]
    }
   ],
   "source": [
    "# summary of the dataframe\n",
    "df_train.info()"
   ]
  },
  {
   "cell_type": "code",
   "execution_count": 10,
   "metadata": {},
   "outputs": [
    {
     "name": "stdout",
     "output_type": "stream",
     "text": [
      "<class 'pandas.core.frame.DataFrame'>\n",
      "RangeIndex: 11709 entries, 0 to 11708\n",
      "Data columns (total 80 columns):\n",
      " #   Column                       Non-Null Count  Dtype  \n",
      "---  ------                       --------------  -----  \n",
      " 0   UID                          11709 non-null  int64  \n",
      " 1   BLOCKID                      0 non-null      float64\n",
      " 2   SUMLEVEL                     11709 non-null  int64  \n",
      " 3   COUNTYID                     11709 non-null  int64  \n",
      " 4   STATEID                      11709 non-null  int64  \n",
      " 5   state                        11709 non-null  object \n",
      " 6   state_ab                     11709 non-null  object \n",
      " 7   city                         11709 non-null  object \n",
      " 8   place                        11709 non-null  object \n",
      " 9   type                         11709 non-null  object \n",
      " 10  primary                      11709 non-null  object \n",
      " 11  zip_code                     11709 non-null  int64  \n",
      " 12  area_code                    11709 non-null  int64  \n",
      " 13  lat                          11709 non-null  float64\n",
      " 14  lng                          11709 non-null  float64\n",
      " 15  ALand                        11709 non-null  int64  \n",
      " 16  AWater                       11709 non-null  int64  \n",
      " 17  pop                          11709 non-null  int64  \n",
      " 18  male_pop                     11709 non-null  int64  \n",
      " 19  female_pop                   11709 non-null  int64  \n",
      " 20  rent_mean                    11561 non-null  float64\n",
      " 21  rent_median                  11561 non-null  float64\n",
      " 22  rent_stdev                   11561 non-null  float64\n",
      " 23  rent_sample_weight           11561 non-null  float64\n",
      " 24  rent_samples                 11561 non-null  float64\n",
      " 25  rent_gt_10                   11560 non-null  float64\n",
      " 26  rent_gt_15                   11560 non-null  float64\n",
      " 27  rent_gt_20                   11560 non-null  float64\n",
      " 28  rent_gt_25                   11560 non-null  float64\n",
      " 29  rent_gt_30                   11560 non-null  float64\n",
      " 30  rent_gt_35                   11560 non-null  float64\n",
      " 31  rent_gt_40                   11560 non-null  float64\n",
      " 32  rent_gt_50                   11560 non-null  float64\n",
      " 33  universe_samples             11709 non-null  int64  \n",
      " 34  used_samples                 11709 non-null  int64  \n",
      " 35  hi_mean                      11587 non-null  float64\n",
      " 36  hi_median                    11587 non-null  float64\n",
      " 37  hi_stdev                     11587 non-null  float64\n",
      " 38  hi_sample_weight             11587 non-null  float64\n",
      " 39  hi_samples                   11587 non-null  float64\n",
      " 40  family_mean                  11573 non-null  float64\n",
      " 41  family_median                11573 non-null  float64\n",
      " 42  family_stdev                 11573 non-null  float64\n",
      " 43  family_sample_weight         11573 non-null  float64\n",
      " 44  family_samples               11573 non-null  float64\n",
      " 45  hc_mortgage_mean             11441 non-null  float64\n",
      " 46  hc_mortgage_median           11441 non-null  float64\n",
      " 47  hc_mortgage_stdev            11441 non-null  float64\n",
      " 48  hc_mortgage_sample_weight    11441 non-null  float64\n",
      " 49  hc_mortgage_samples          11441 non-null  float64\n",
      " 50  hc_mean                      11419 non-null  float64\n",
      " 51  hc_median                    11419 non-null  float64\n",
      " 52  hc_stdev                     11419 non-null  float64\n",
      " 53  hc_samples                   11419 non-null  float64\n",
      " 54  hc_sample_weight             11419 non-null  float64\n",
      " 55  home_equity_second_mortgage  11489 non-null  float64\n",
      " 56  second_mortgage              11489 non-null  float64\n",
      " 57  home_equity                  11489 non-null  float64\n",
      " 58  debt                         11489 non-null  float64\n",
      " 59  second_mortgage_cdf          11489 non-null  float64\n",
      " 60  home_equity_cdf              11489 non-null  float64\n",
      " 61  debt_cdf                     11489 non-null  float64\n",
      " 62  hs_degree                    11624 non-null  float64\n",
      " 63  hs_degree_male               11620 non-null  float64\n",
      " 64  hs_degree_female             11604 non-null  float64\n",
      " 65  male_age_mean                11625 non-null  float64\n",
      " 66  male_age_median              11625 non-null  float64\n",
      " 67  male_age_stdev               11625 non-null  float64\n",
      " 68  male_age_sample_weight       11625 non-null  float64\n",
      " 69  male_age_samples             11625 non-null  float64\n",
      " 70  female_age_mean              11613 non-null  float64\n",
      " 71  female_age_median            11613 non-null  float64\n",
      " 72  female_age_stdev             11613 non-null  float64\n",
      " 73  female_age_sample_weight     11613 non-null  float64\n",
      " 74  female_age_samples           11613 non-null  float64\n",
      " 75  pct_own                      11587 non-null  float64\n",
      " 76  married                      11625 non-null  float64\n",
      " 77  married_snp                  11625 non-null  float64\n",
      " 78  separated                    11625 non-null  float64\n",
      " 79  divorced                     11625 non-null  float64\n",
      "dtypes: float64(61), int64(13), object(6)\n",
      "memory usage: 7.1+ MB\n"
     ]
    }
   ],
   "source": [
    "# Summary of the dataframe\n",
    "df_test.info()"
   ]
  },
  {
   "cell_type": "markdown",
   "metadata": {
    "tags": []
   },
   "source": [
    "### Figure out the primary key and look for the requirement of indexing."
   ]
  },
  {
   "cell_type": "code",
   "execution_count": 11,
   "metadata": {},
   "outputs": [
    {
     "name": "stdout",
     "output_type": "stream",
     "text": [
      "Duplicates in training dataset:\n",
      "False    27161\n",
      "True       160\n",
      "dtype: int64 \n",
      "\n"
     ]
    }
   ],
   "source": [
    "#remove the duplicates\n",
    "print('Duplicates in training dataset:')\n",
    "print(df_train.duplicated().value_counts(),'\\n')"
   ]
  },
  {
   "cell_type": "code",
   "execution_count": 12,
   "metadata": {},
   "outputs": [
    {
     "name": "stdout",
     "output_type": "stream",
     "text": [
      "Duplicates in testing dataset:\n",
      "False    11677\n",
      "True        32\n",
      "dtype: int64 \n",
      "\n"
     ]
    }
   ],
   "source": [
    "print('Duplicates in testing dataset:')\n",
    "print(df_test.duplicated().value_counts(),'\\n')"
   ]
  },
  {
   "cell_type": "code",
   "execution_count": 13,
   "metadata": {},
   "outputs": [],
   "source": [
    "#remove duplicates from the dataset \n",
    "df_train.drop_duplicates(keep='first', inplace=True)\n",
    "df_test.drop_duplicates(keep='first', inplace=True)"
   ]
  },
  {
   "cell_type": "code",
   "execution_count": 14,
   "metadata": {},
   "outputs": [
    {
     "data": {
      "text/plain": [
       "(27161, 80)"
      ]
     },
     "execution_count": 14,
     "metadata": {},
     "output_type": "execute_result"
    }
   ],
   "source": [
    "df_train.shape"
   ]
  },
  {
   "cell_type": "code",
   "execution_count": 15,
   "metadata": {},
   "outputs": [
    {
     "data": {
      "text/plain": [
       "(11677, 80)"
      ]
     },
     "execution_count": 15,
     "metadata": {},
     "output_type": "execute_result"
    }
   ],
   "source": [
    "df_test.shape"
   ]
  },
  {
   "cell_type": "code",
   "execution_count": 16,
   "metadata": {},
   "outputs": [
    {
     "data": {
      "text/plain": [
       "UID             True\n",
       "BLOCKID        False\n",
       "SUMLEVEL       False\n",
       "COUNTYID       False\n",
       "STATEID        False\n",
       "               ...  \n",
       "pct_own        False\n",
       "married        False\n",
       "married_snp    False\n",
       "separated      False\n",
       "divorced       False\n",
       "Length: 80, dtype: bool"
      ]
     },
     "execution_count": 16,
     "metadata": {},
     "output_type": "execute_result"
    }
   ],
   "source": [
    "#find unique values\n",
    "df_train.nunique()==df_train.shape[0]"
   ]
  },
  {
   "cell_type": "code",
   "execution_count": 17,
   "metadata": {},
   "outputs": [
    {
     "data": {
      "text/plain": [
       "UID             True\n",
       "BLOCKID        False\n",
       "SUMLEVEL       False\n",
       "COUNTYID       False\n",
       "STATEID        False\n",
       "               ...  \n",
       "pct_own        False\n",
       "married        False\n",
       "married_snp    False\n",
       "separated      False\n",
       "divorced       False\n",
       "Length: 80, dtype: bool"
      ]
     },
     "execution_count": 17,
     "metadata": {},
     "output_type": "execute_result"
    }
   ],
   "source": [
    "df_test.nunique()==df_test.shape[0]"
   ]
  },
  {
   "cell_type": "code",
   "execution_count": 18,
   "metadata": {},
   "outputs": [],
   "source": [
    "#there are unique values in UID column so set index on UID column\n",
    "df_train.set_index(keys=['UID'],inplace=True)\n",
    "df_test.set_index(keys=['UID'],inplace=True)"
   ]
  },
  {
   "cell_type": "code",
   "execution_count": 19,
   "metadata": {},
   "outputs": [
    {
     "data": {
      "text/html": [
       "<div>\n",
       "<style scoped>\n",
       "    .dataframe tbody tr th:only-of-type {\n",
       "        vertical-align: middle;\n",
       "    }\n",
       "\n",
       "    .dataframe tbody tr th {\n",
       "        vertical-align: top;\n",
       "    }\n",
       "\n",
       "    .dataframe thead th {\n",
       "        text-align: right;\n",
       "    }\n",
       "</style>\n",
       "<table border=\"1\" class=\"dataframe\">\n",
       "  <thead>\n",
       "    <tr style=\"text-align: right;\">\n",
       "      <th></th>\n",
       "      <th>BLOCKID</th>\n",
       "      <th>SUMLEVEL</th>\n",
       "      <th>COUNTYID</th>\n",
       "      <th>STATEID</th>\n",
       "      <th>state</th>\n",
       "      <th>state_ab</th>\n",
       "      <th>city</th>\n",
       "      <th>place</th>\n",
       "      <th>type</th>\n",
       "      <th>primary</th>\n",
       "      <th>...</th>\n",
       "      <th>female_age_mean</th>\n",
       "      <th>female_age_median</th>\n",
       "      <th>female_age_stdev</th>\n",
       "      <th>female_age_sample_weight</th>\n",
       "      <th>female_age_samples</th>\n",
       "      <th>pct_own</th>\n",
       "      <th>married</th>\n",
       "      <th>married_snp</th>\n",
       "      <th>separated</th>\n",
       "      <th>divorced</th>\n",
       "    </tr>\n",
       "    <tr>\n",
       "      <th>UID</th>\n",
       "      <th></th>\n",
       "      <th></th>\n",
       "      <th></th>\n",
       "      <th></th>\n",
       "      <th></th>\n",
       "      <th></th>\n",
       "      <th></th>\n",
       "      <th></th>\n",
       "      <th></th>\n",
       "      <th></th>\n",
       "      <th></th>\n",
       "      <th></th>\n",
       "      <th></th>\n",
       "      <th></th>\n",
       "      <th></th>\n",
       "      <th></th>\n",
       "      <th></th>\n",
       "      <th></th>\n",
       "      <th></th>\n",
       "      <th></th>\n",
       "      <th></th>\n",
       "    </tr>\n",
       "  </thead>\n",
       "  <tbody>\n",
       "    <tr>\n",
       "      <th>267822</th>\n",
       "      <td>NaN</td>\n",
       "      <td>140</td>\n",
       "      <td>53</td>\n",
       "      <td>36</td>\n",
       "      <td>New York</td>\n",
       "      <td>NY</td>\n",
       "      <td>Hamilton</td>\n",
       "      <td>Hamilton</td>\n",
       "      <td>City</td>\n",
       "      <td>tract</td>\n",
       "      <td>...</td>\n",
       "      <td>44.48629</td>\n",
       "      <td>45.33333</td>\n",
       "      <td>22.51276</td>\n",
       "      <td>685.33845</td>\n",
       "      <td>2618.0</td>\n",
       "      <td>0.79046</td>\n",
       "      <td>0.57851</td>\n",
       "      <td>0.01882</td>\n",
       "      <td>0.01240</td>\n",
       "      <td>0.0877</td>\n",
       "    </tr>\n",
       "    <tr>\n",
       "      <th>246444</th>\n",
       "      <td>NaN</td>\n",
       "      <td>140</td>\n",
       "      <td>141</td>\n",
       "      <td>18</td>\n",
       "      <td>Indiana</td>\n",
       "      <td>IN</td>\n",
       "      <td>South Bend</td>\n",
       "      <td>Roseland</td>\n",
       "      <td>City</td>\n",
       "      <td>tract</td>\n",
       "      <td>...</td>\n",
       "      <td>36.48391</td>\n",
       "      <td>37.58333</td>\n",
       "      <td>23.43353</td>\n",
       "      <td>267.23367</td>\n",
       "      <td>1284.0</td>\n",
       "      <td>0.52483</td>\n",
       "      <td>0.34886</td>\n",
       "      <td>0.01426</td>\n",
       "      <td>0.01426</td>\n",
       "      <td>0.0903</td>\n",
       "    </tr>\n",
       "  </tbody>\n",
       "</table>\n",
       "<p>2 rows × 79 columns</p>\n",
       "</div>"
      ],
      "text/plain": [
       "        BLOCKID  SUMLEVEL  COUNTYID  STATEID     state state_ab        city  \\\n",
       "UID                                                                           \n",
       "267822      NaN       140        53       36  New York       NY    Hamilton   \n",
       "246444      NaN       140       141       18   Indiana       IN  South Bend   \n",
       "\n",
       "           place  type primary  ...  female_age_mean  female_age_median  \\\n",
       "UID                             ...                                       \n",
       "267822  Hamilton  City   tract  ...         44.48629           45.33333   \n",
       "246444  Roseland  City   tract  ...         36.48391           37.58333   \n",
       "\n",
       "        female_age_stdev  female_age_sample_weight  female_age_samples  \\\n",
       "UID                                                                      \n",
       "267822          22.51276                 685.33845              2618.0   \n",
       "246444          23.43353                 267.23367              1284.0   \n",
       "\n",
       "        pct_own  married  married_snp  separated  divorced  \n",
       "UID                                                         \n",
       "267822  0.79046  0.57851      0.01882    0.01240    0.0877  \n",
       "246444  0.52483  0.34886      0.01426    0.01426    0.0903  \n",
       "\n",
       "[2 rows x 79 columns]"
      ]
     },
     "execution_count": 19,
     "metadata": {},
     "output_type": "execute_result"
    }
   ],
   "source": [
    "df_train.head(2)"
   ]
  },
  {
   "cell_type": "code",
   "execution_count": 20,
   "metadata": {},
   "outputs": [
    {
     "data": {
      "text/html": [
       "<div>\n",
       "<style scoped>\n",
       "    .dataframe tbody tr th:only-of-type {\n",
       "        vertical-align: middle;\n",
       "    }\n",
       "\n",
       "    .dataframe tbody tr th {\n",
       "        vertical-align: top;\n",
       "    }\n",
       "\n",
       "    .dataframe thead th {\n",
       "        text-align: right;\n",
       "    }\n",
       "</style>\n",
       "<table border=\"1\" class=\"dataframe\">\n",
       "  <thead>\n",
       "    <tr style=\"text-align: right;\">\n",
       "      <th></th>\n",
       "      <th>BLOCKID</th>\n",
       "      <th>SUMLEVEL</th>\n",
       "      <th>COUNTYID</th>\n",
       "      <th>STATEID</th>\n",
       "      <th>state</th>\n",
       "      <th>state_ab</th>\n",
       "      <th>city</th>\n",
       "      <th>place</th>\n",
       "      <th>type</th>\n",
       "      <th>primary</th>\n",
       "      <th>...</th>\n",
       "      <th>female_age_mean</th>\n",
       "      <th>female_age_median</th>\n",
       "      <th>female_age_stdev</th>\n",
       "      <th>female_age_sample_weight</th>\n",
       "      <th>female_age_samples</th>\n",
       "      <th>pct_own</th>\n",
       "      <th>married</th>\n",
       "      <th>married_snp</th>\n",
       "      <th>separated</th>\n",
       "      <th>divorced</th>\n",
       "    </tr>\n",
       "    <tr>\n",
       "      <th>UID</th>\n",
       "      <th></th>\n",
       "      <th></th>\n",
       "      <th></th>\n",
       "      <th></th>\n",
       "      <th></th>\n",
       "      <th></th>\n",
       "      <th></th>\n",
       "      <th></th>\n",
       "      <th></th>\n",
       "      <th></th>\n",
       "      <th></th>\n",
       "      <th></th>\n",
       "      <th></th>\n",
       "      <th></th>\n",
       "      <th></th>\n",
       "      <th></th>\n",
       "      <th></th>\n",
       "      <th></th>\n",
       "      <th></th>\n",
       "      <th></th>\n",
       "      <th></th>\n",
       "    </tr>\n",
       "  </thead>\n",
       "  <tbody>\n",
       "    <tr>\n",
       "      <th>255504</th>\n",
       "      <td>NaN</td>\n",
       "      <td>140</td>\n",
       "      <td>163</td>\n",
       "      <td>26</td>\n",
       "      <td>Michigan</td>\n",
       "      <td>MI</td>\n",
       "      <td>Detroit</td>\n",
       "      <td>Dearborn Heights City</td>\n",
       "      <td>CDP</td>\n",
       "      <td>tract</td>\n",
       "      <td>...</td>\n",
       "      <td>34.78682</td>\n",
       "      <td>33.75000</td>\n",
       "      <td>21.58531</td>\n",
       "      <td>416.48097</td>\n",
       "      <td>1938.0</td>\n",
       "      <td>0.70252</td>\n",
       "      <td>0.28217</td>\n",
       "      <td>0.05910</td>\n",
       "      <td>0.03813</td>\n",
       "      <td>0.14299</td>\n",
       "    </tr>\n",
       "    <tr>\n",
       "      <th>252676</th>\n",
       "      <td>NaN</td>\n",
       "      <td>140</td>\n",
       "      <td>1</td>\n",
       "      <td>23</td>\n",
       "      <td>Maine</td>\n",
       "      <td>ME</td>\n",
       "      <td>Auburn</td>\n",
       "      <td>Auburn City</td>\n",
       "      <td>City</td>\n",
       "      <td>tract</td>\n",
       "      <td>...</td>\n",
       "      <td>44.23451</td>\n",
       "      <td>46.66667</td>\n",
       "      <td>22.37036</td>\n",
       "      <td>532.03505</td>\n",
       "      <td>1950.0</td>\n",
       "      <td>0.85128</td>\n",
       "      <td>0.64221</td>\n",
       "      <td>0.02338</td>\n",
       "      <td>0.00000</td>\n",
       "      <td>0.13377</td>\n",
       "    </tr>\n",
       "  </tbody>\n",
       "</table>\n",
       "<p>2 rows × 79 columns</p>\n",
       "</div>"
      ],
      "text/plain": [
       "        BLOCKID  SUMLEVEL  COUNTYID  STATEID     state state_ab     city  \\\n",
       "UID                                                                        \n",
       "255504      NaN       140       163       26  Michigan       MI  Detroit   \n",
       "252676      NaN       140         1       23     Maine       ME   Auburn   \n",
       "\n",
       "                        place  type primary  ...  female_age_mean  \\\n",
       "UID                                          ...                    \n",
       "255504  Dearborn Heights City   CDP   tract  ...         34.78682   \n",
       "252676            Auburn City  City   tract  ...         44.23451   \n",
       "\n",
       "        female_age_median  female_age_stdev  female_age_sample_weight  \\\n",
       "UID                                                                     \n",
       "255504           33.75000          21.58531                 416.48097   \n",
       "252676           46.66667          22.37036                 532.03505   \n",
       "\n",
       "        female_age_samples  pct_own  married  married_snp  separated  divorced  \n",
       "UID                                                                             \n",
       "255504              1938.0  0.70252  0.28217      0.05910    0.03813   0.14299  \n",
       "252676              1950.0  0.85128  0.64221      0.02338    0.00000   0.13377  \n",
       "\n",
       "[2 rows x 79 columns]"
      ]
     },
     "execution_count": 20,
     "metadata": {},
     "output_type": "execute_result"
    }
   ],
   "source": [
    "df_test.head(2)"
   ]
  },
  {
   "cell_type": "markdown",
   "metadata": {},
   "source": [
    "### Gauge the fill rate of the variables and devise plans for missing value treatment. Please explain explicitly the reason for the treatment chosen for each variable. "
   ]
  },
  {
   "cell_type": "code",
   "execution_count": 21,
   "metadata": {},
   "outputs": [
    {
     "data": {
      "text/plain": [
       "BLOCKID        27161\n",
       "SUMLEVEL           0\n",
       "COUNTYID           0\n",
       "STATEID            0\n",
       "state              0\n",
       "               ...  \n",
       "pct_own          207\n",
       "married          150\n",
       "married_snp      150\n",
       "separated        150\n",
       "divorced         150\n",
       "Length: 79, dtype: int64"
      ]
     },
     "execution_count": 21,
     "metadata": {},
     "output_type": "execute_result"
    }
   ],
   "source": [
    "#find the null values\n",
    "df_train.isna().sum()"
   ]
  },
  {
   "cell_type": "code",
   "execution_count": 22,
   "metadata": {},
   "outputs": [
    {
     "data": {
      "text/plain": [
       "BLOCKID        11677\n",
       "SUMLEVEL           0\n",
       "COUNTYID           0\n",
       "STATEID            0\n",
       "state              0\n",
       "               ...  \n",
       "pct_own          112\n",
       "married           77\n",
       "married_snp       77\n",
       "separated         77\n",
       "divorced          77\n",
       "Length: 79, dtype: int64"
      ]
     },
     "execution_count": 22,
     "metadata": {},
     "output_type": "execute_result"
    }
   ],
   "source": [
    "df_test.isna().sum()"
   ]
  },
  {
   "cell_type": "code",
   "execution_count": 23,
   "metadata": {},
   "outputs": [
    {
     "data": {
      "text/plain": [
       "(76, 76)"
      ]
     },
     "execution_count": 23,
     "metadata": {},
     "output_type": "execute_result"
    }
   ],
   "source": [
    "#Block ID has all missing values and SUMLEVEL and primary each have siingle values\n",
    "#remove BLOCKID, SUMLEVEL, Primary from both datasets\n",
    "df_train.drop(columns=['BLOCKID','SUMLEVEL','primary'],axis=1,inplace=True)\n",
    "df_test.drop(columns=['BLOCKID','SUMLEVEL','primary'],axis=1,inplace=True)\n",
    "\n",
    "df_train.shape[1], df_test.shape[1]"
   ]
  },
  {
   "cell_type": "code",
   "execution_count": 24,
   "metadata": {},
   "outputs": [
    {
     "name": "stdout",
     "output_type": "stream",
     "text": [
      "['rent_mean', 'rent_median', 'rent_stdev', 'rent_sample_weight', 'rent_samples', 'rent_gt_10', 'rent_gt_15', 'rent_gt_20', 'rent_gt_25', 'rent_gt_30', 'rent_gt_35', 'rent_gt_40', 'rent_gt_50', 'hi_mean', 'hi_median', 'hi_stdev', 'hi_sample_weight', 'hi_samples', 'family_mean', 'family_median', 'family_stdev', 'family_sample_weight', 'family_samples', 'hc_mortgage_mean', 'hc_mortgage_median', 'hc_mortgage_stdev', 'hc_mortgage_sample_weight', 'hc_mortgage_samples', 'hc_mean', 'hc_median', 'hc_stdev', 'hc_samples', 'hc_sample_weight', 'home_equity_second_mortgage', 'second_mortgage', 'home_equity', 'debt', 'second_mortgage_cdf', 'home_equity_cdf', 'debt_cdf', 'hs_degree', 'hs_degree_male', 'hs_degree_female', 'male_age_mean', 'male_age_median', 'male_age_stdev', 'male_age_sample_weight', 'male_age_samples', 'female_age_mean', 'female_age_median', 'female_age_stdev', 'female_age_sample_weight', 'female_age_samples', 'pct_own', 'married', 'married_snp', 'separated', 'divorced']\n"
     ]
    }
   ],
   "source": [
    "#missing value tratment\n",
    "missing_train_cols=[]\n",
    "for col in df_train.columns:\n",
    "     if df_train[col].isna().sum() !=0:\n",
    "        missing_train_cols.append(col)\n",
    "print(missing_train_cols)"
   ]
  },
  {
   "cell_type": "code",
   "execution_count": 25,
   "metadata": {},
   "outputs": [
    {
     "name": "stdout",
     "output_type": "stream",
     "text": [
      "['rent_mean', 'rent_median', 'rent_stdev', 'rent_sample_weight', 'rent_samples', 'rent_gt_10', 'rent_gt_15', 'rent_gt_20', 'rent_gt_25', 'rent_gt_30', 'rent_gt_35', 'rent_gt_40', 'rent_gt_50', 'hi_mean', 'hi_median', 'hi_stdev', 'hi_sample_weight', 'hi_samples', 'family_mean', 'family_median', 'family_stdev', 'family_sample_weight', 'family_samples', 'hc_mortgage_mean', 'hc_mortgage_median', 'hc_mortgage_stdev', 'hc_mortgage_sample_weight', 'hc_mortgage_samples', 'hc_mean', 'hc_median', 'hc_stdev', 'hc_samples', 'hc_sample_weight', 'home_equity_second_mortgage', 'second_mortgage', 'home_equity', 'debt', 'second_mortgage_cdf', 'home_equity_cdf', 'debt_cdf', 'hs_degree', 'hs_degree_male', 'hs_degree_female', 'male_age_mean', 'male_age_median', 'male_age_stdev', 'male_age_sample_weight', 'male_age_samples', 'female_age_mean', 'female_age_median', 'female_age_stdev', 'female_age_sample_weight', 'female_age_samples', 'pct_own', 'married', 'married_snp', 'separated', 'divorced']\n"
     ]
    }
   ],
   "source": [
    "# Imputing missing values with mean\n",
    "missing_test_cols=[]\n",
    "for col in df_test.columns:\n",
    "    if df_test[col].isna().sum() !=0:\n",
    "        missing_test_cols.append(col)\n",
    "print(missing_test_cols)"
   ]
  },
  {
   "cell_type": "code",
   "execution_count": 26,
   "metadata": {},
   "outputs": [],
   "source": [
    "# Missing cols are all numerical variables\n",
    "for col in df_train.columns:\n",
    "    if col in (missing_train_cols):\n",
    "        df_train[col].replace(np.nan, df_train[col].mean(),inplace=True)"
   ]
  },
  {
   "cell_type": "code",
   "execution_count": 27,
   "metadata": {},
   "outputs": [],
   "source": [
    "# Missing cols are all numerical variables\n",
    "for col in df_test.columns:\n",
    "    if col in (missing_test_cols):\n",
    "        df_test[col].replace(np.nan, df_test[col].mean(),inplace=True)"
   ]
  },
  {
   "cell_type": "code",
   "execution_count": 28,
   "metadata": {},
   "outputs": [
    {
     "data": {
      "text/plain": [
       "0"
      ]
     },
     "execution_count": 28,
     "metadata": {},
     "output_type": "execute_result"
    }
   ],
   "source": [
    "df_train.isna().sum().sum()"
   ]
  },
  {
   "cell_type": "code",
   "execution_count": 29,
   "metadata": {},
   "outputs": [
    {
     "data": {
      "text/plain": [
       "0"
      ]
     },
     "execution_count": 29,
     "metadata": {},
     "output_type": "execute_result"
    }
   ],
   "source": [
    "df_test.isna().sum().sum()"
   ]
  },
  {
   "cell_type": "markdown",
   "metadata": {},
   "source": [
    "# EXPLORATORY DATA ANALYSIS(EDA)"
   ]
  },
  {
   "cell_type": "markdown",
   "metadata": {},
   "source": [
    "### 4.Perform debt analysis. You may take the following steps:"
   ]
  },
  {
   "cell_type": "markdown",
   "metadata": {},
   "source": [
    "#### a) Explore the top 2,500 locations where the percentage of households with a second mortgage is the highest and percent ownership is above 10 percent. Visualize using geo-map. You may keep the upper limit for the percent of households with a second mortgage to 50 percent"
   ]
  },
  {
   "cell_type": "code",
   "execution_count": 30,
   "metadata": {},
   "outputs": [],
   "source": [
    "top_2500_loc = df_train[(df_train['second_mortgage']>0.065) & (df_train[\"home_equity\"]>.10)].sort_values (by = 'second_mortgage', ascending=False).head(2500)"
   ]
  },
  {
   "cell_type": "code",
   "execution_count": 31,
   "metadata": {},
   "outputs": [
    {
     "data": {
      "text/html": [
       "<div>\n",
       "<style scoped>\n",
       "    .dataframe tbody tr th:only-of-type {\n",
       "        vertical-align: middle;\n",
       "    }\n",
       "\n",
       "    .dataframe tbody tr th {\n",
       "        vertical-align: top;\n",
       "    }\n",
       "\n",
       "    .dataframe thead th {\n",
       "        text-align: right;\n",
       "    }\n",
       "</style>\n",
       "<table border=\"1\" class=\"dataframe\">\n",
       "  <thead>\n",
       "    <tr style=\"text-align: right;\">\n",
       "      <th></th>\n",
       "      <th>state</th>\n",
       "      <th>city</th>\n",
       "      <th>state_ab</th>\n",
       "      <th>place</th>\n",
       "      <th>lat</th>\n",
       "      <th>lng</th>\n",
       "    </tr>\n",
       "    <tr>\n",
       "      <th>UID</th>\n",
       "      <th></th>\n",
       "      <th></th>\n",
       "      <th></th>\n",
       "      <th></th>\n",
       "      <th></th>\n",
       "      <th></th>\n",
       "    </tr>\n",
       "  </thead>\n",
       "  <tbody>\n",
       "    <tr>\n",
       "      <th>249744</th>\n",
       "      <td>Louisiana</td>\n",
       "      <td>Fort Polk</td>\n",
       "      <td>LA</td>\n",
       "      <td>Fort Polk North</td>\n",
       "      <td>31.099609</td>\n",
       "      <td>-93.202088</td>\n",
       "    </tr>\n",
       "    <tr>\n",
       "      <th>290029</th>\n",
       "      <td>Virginia</td>\n",
       "      <td>Alexandria</td>\n",
       "      <td>VA</td>\n",
       "      <td>Bailey's Crossroads</td>\n",
       "      <td>38.828707</td>\n",
       "      <td>-77.121251</td>\n",
       "    </tr>\n",
       "    <tr>\n",
       "      <th>247937</th>\n",
       "      <td>Kentucky</td>\n",
       "      <td>Fort Knox</td>\n",
       "      <td>KY</td>\n",
       "      <td>Fort Knox</td>\n",
       "      <td>37.879246</td>\n",
       "      <td>-85.961748</td>\n",
       "    </tr>\n",
       "    <tr>\n",
       "      <th>248394</th>\n",
       "      <td>Kentucky</td>\n",
       "      <td>Fort Knox</td>\n",
       "      <td>KY</td>\n",
       "      <td>Fort Knox</td>\n",
       "      <td>37.901474</td>\n",
       "      <td>-85.986474</td>\n",
       "    </tr>\n",
       "    <tr>\n",
       "      <th>225659</th>\n",
       "      <td>California</td>\n",
       "      <td>Los Angeles</td>\n",
       "      <td>CA</td>\n",
       "      <td>West Hollywood City</td>\n",
       "      <td>34.067232</td>\n",
       "      <td>-118.292902</td>\n",
       "    </tr>\n",
       "  </tbody>\n",
       "</table>\n",
       "</div>"
      ],
      "text/plain": [
       "             state         city state_ab                place        lat  \\\n",
       "UID                                                                        \n",
       "249744   Louisiana    Fort Polk       LA      Fort Polk North  31.099609   \n",
       "290029    Virginia   Alexandria       VA  Bailey's Crossroads  38.828707   \n",
       "247937    Kentucky    Fort Knox       KY            Fort Knox  37.879246   \n",
       "248394    Kentucky    Fort Knox       KY            Fort Knox  37.901474   \n",
       "225659  California  Los Angeles       CA  West Hollywood City  34.067232   \n",
       "\n",
       "               lng  \n",
       "UID                 \n",
       "249744  -93.202088  \n",
       "290029  -77.121251  \n",
       "247937  -85.961748  \n",
       "248394  -85.986474  \n",
       "225659 -118.292902  "
      ]
     },
     "execution_count": 31,
     "metadata": {},
     "output_type": "execute_result"
    }
   ],
   "source": [
    "top_2500_loc=top_2500_loc[['state','city','state_ab','place','lat','lng']]\n",
    "top_2500_loc.head()"
   ]
  },
  {
   "cell_type": "code",
   "execution_count": 32,
   "metadata": {
    "collapsed": true,
    "jupyter": {
     "outputs_hidden": true
    },
    "tags": []
   },
   "outputs": [
    {
     "name": "stdout",
     "output_type": "stream",
     "text": [
      "Defaulting to user installation because normal site-packages is not writeable\n",
      "Requirement already satisfied: geopandas in /home/labsuser/.local/lib/python3.7/site-packages (0.10.2)\n",
      "Requirement already satisfied: shapely>=1.6 in /home/labsuser/.local/lib/python3.7/site-packages (from geopandas) (2.0.1)\n",
      "Requirement already satisfied: fiona>=1.8 in /home/labsuser/.local/lib/python3.7/site-packages (from geopandas) (1.9.1)\n",
      "Requirement already satisfied: pandas>=0.25.0 in /usr/local/lib/python3.7/site-packages (from geopandas) (1.1.5)\n",
      "Requirement already satisfied: pyproj>=2.2.0 in /home/labsuser/.local/lib/python3.7/site-packages (from geopandas) (3.2.1)\n",
      "Requirement already satisfied: attrs>=19.2.0 in /usr/local/lib/python3.7/site-packages (from fiona>=1.8->geopandas) (19.3.0)\n",
      "Collecting click~=8.0\n",
      "  Using cached click-8.1.3-py3-none-any.whl (96 kB)\n",
      "Requirement already satisfied: munch>=2.3.2 in /home/labsuser/.local/lib/python3.7/site-packages (from fiona>=1.8->geopandas) (2.5.0)\n",
      "Requirement already satisfied: click-plugins>=1.0 in /home/labsuser/.local/lib/python3.7/site-packages (from fiona>=1.8->geopandas) (1.1.1)\n",
      "Requirement already satisfied: certifi in /usr/local/lib/python3.7/site-packages (from fiona>=1.8->geopandas) (2019.11.28)\n",
      "Requirement already satisfied: setuptools in /usr/local/lib/python3.7/site-packages (from fiona>=1.8->geopandas) (41.2.0)\n",
      "Requirement already satisfied: cligj>=0.5 in /home/labsuser/.local/lib/python3.7/site-packages (from fiona>=1.8->geopandas) (0.7.2)\n",
      "Requirement already satisfied: python-dateutil>=2.7.3 in /usr/local/lib/python3.7/site-packages (from pandas>=0.25.0->geopandas) (2.8.1)\n",
      "Requirement already satisfied: pytz>=2017.2 in /usr/local/lib/python3.7/site-packages (from pandas>=0.25.0->geopandas) (2019.3)\n",
      "Requirement already satisfied: numpy>=1.15.4 in /usr/local/lib/python3.7/site-packages (from pandas>=0.25.0->geopandas) (1.21.5)\n",
      "Requirement already satisfied: importlib-metadata in /usr/local/lib/python3.7/site-packages (from click~=8.0->fiona>=1.8->geopandas) (1.6.0)\n",
      "Requirement already satisfied: six in /usr/local/lib/python3.7/site-packages (from munch>=2.3.2->fiona>=1.8->geopandas) (1.14.0)\n",
      "Requirement already satisfied: zipp>=0.5 in /usr/local/lib/python3.7/site-packages (from importlib-metadata->click~=8.0->fiona>=1.8->geopandas) (3.1.0)\n",
      "Installing collected packages: click\n",
      "\u001b[31mERROR: pip's dependency resolver does not currently take into account all the packages that are installed. This behaviour is the source of the following dependency conflicts.\n",
      "jasper 0.1 requires click==6.7, but you have click 8.1.3 which is incompatible.\n",
      "jasper 0.1 requires colorama==0.3.7, but you have colorama 0.4.3 which is incompatible.\n",
      "jasper 0.1 requires tqdm==4.11.2, but you have tqdm 4.62.3 which is incompatible.\u001b[0m\u001b[31m\n",
      "\u001b[0mSuccessfully installed click-8.1.3\n",
      "\u001b[33mWARNING: You are using pip version 22.0.3; however, version 23.0 is available.\n",
      "You should consider upgrading via the '/usr/local/bin/python3.7 -m pip install --upgrade pip' command.\u001b[0m\u001b[33m\n",
      "\u001b[0mNote: you may need to restart the kernel to use updated packages.\n"
     ]
    }
   ],
   "source": [
    "pip install geopandas"
   ]
  },
  {
   "cell_type": "code",
   "execution_count": 77,
   "metadata": {},
   "outputs": [
    {
     "data": {
      "text/html": [
       "<div>\n",
       "<style scoped>\n",
       "    .dataframe tbody tr th:only-of-type {\n",
       "        vertical-align: middle;\n",
       "    }\n",
       "\n",
       "    .dataframe tbody tr th {\n",
       "        vertical-align: top;\n",
       "    }\n",
       "\n",
       "    .dataframe thead th {\n",
       "        text-align: right;\n",
       "    }\n",
       "</style>\n",
       "<table border=\"1\" class=\"dataframe\">\n",
       "  <thead>\n",
       "    <tr style=\"text-align: right;\">\n",
       "      <th></th>\n",
       "      <th>state</th>\n",
       "      <th>city</th>\n",
       "      <th>state_ab</th>\n",
       "      <th>place</th>\n",
       "      <th>lat</th>\n",
       "      <th>lng</th>\n",
       "      <th>geometry</th>\n",
       "    </tr>\n",
       "    <tr>\n",
       "      <th>UID</th>\n",
       "      <th></th>\n",
       "      <th></th>\n",
       "      <th></th>\n",
       "      <th></th>\n",
       "      <th></th>\n",
       "      <th></th>\n",
       "      <th></th>\n",
       "    </tr>\n",
       "  </thead>\n",
       "  <tbody>\n",
       "    <tr>\n",
       "      <th>249744</th>\n",
       "      <td>Louisiana</td>\n",
       "      <td>Fort Polk</td>\n",
       "      <td>LA</td>\n",
       "      <td>Fort Polk North</td>\n",
       "      <td>31.099609</td>\n",
       "      <td>-93.202088</td>\n",
       "      <td>POINT (-93.20209 31.09961)</td>\n",
       "    </tr>\n",
       "    <tr>\n",
       "      <th>290029</th>\n",
       "      <td>Virginia</td>\n",
       "      <td>Alexandria</td>\n",
       "      <td>VA</td>\n",
       "      <td>Bailey's Crossroads</td>\n",
       "      <td>38.828707</td>\n",
       "      <td>-77.121251</td>\n",
       "      <td>POINT (-77.12125 38.82871)</td>\n",
       "    </tr>\n",
       "    <tr>\n",
       "      <th>247937</th>\n",
       "      <td>Kentucky</td>\n",
       "      <td>Fort Knox</td>\n",
       "      <td>KY</td>\n",
       "      <td>Fort Knox</td>\n",
       "      <td>37.879246</td>\n",
       "      <td>-85.961748</td>\n",
       "      <td>POINT (-85.96175 37.87925)</td>\n",
       "    </tr>\n",
       "    <tr>\n",
       "      <th>248394</th>\n",
       "      <td>Kentucky</td>\n",
       "      <td>Fort Knox</td>\n",
       "      <td>KY</td>\n",
       "      <td>Fort Knox</td>\n",
       "      <td>37.901474</td>\n",
       "      <td>-85.986474</td>\n",
       "      <td>POINT (-85.98647 37.90147)</td>\n",
       "    </tr>\n",
       "    <tr>\n",
       "      <th>225659</th>\n",
       "      <td>California</td>\n",
       "      <td>Los Angeles</td>\n",
       "      <td>CA</td>\n",
       "      <td>West Hollywood City</td>\n",
       "      <td>34.067232</td>\n",
       "      <td>-118.292902</td>\n",
       "      <td>POINT (-118.29290 34.06723)</td>\n",
       "    </tr>\n",
       "    <tr>\n",
       "      <th>...</th>\n",
       "      <td>...</td>\n",
       "      <td>...</td>\n",
       "      <td>...</td>\n",
       "      <td>...</td>\n",
       "      <td>...</td>\n",
       "      <td>...</td>\n",
       "      <td>...</td>\n",
       "    </tr>\n",
       "    <tr>\n",
       "      <th>246791</th>\n",
       "      <td>Kansas</td>\n",
       "      <td>Augusta</td>\n",
       "      <td>KS</td>\n",
       "      <td>Augusta City</td>\n",
       "      <td>37.613920</td>\n",
       "      <td>-96.926250</td>\n",
       "      <td>POINT (-96.92625 37.61392)</td>\n",
       "    </tr>\n",
       "    <tr>\n",
       "      <th>254509</th>\n",
       "      <td>Michigan</td>\n",
       "      <td>Davisburg</td>\n",
       "      <td>MI</td>\n",
       "      <td>Village Of Clarkston City</td>\n",
       "      <td>42.728586</td>\n",
       "      <td>-83.539028</td>\n",
       "      <td>POINT (-83.53903 42.72859)</td>\n",
       "    </tr>\n",
       "    <tr>\n",
       "      <th>231968</th>\n",
       "      <td>Colorado</td>\n",
       "      <td>Thornton</td>\n",
       "      <td>CO</td>\n",
       "      <td>Northglenn City</td>\n",
       "      <td>39.948761</td>\n",
       "      <td>-104.974382</td>\n",
       "      <td>POINT (-104.97438 39.94876)</td>\n",
       "    </tr>\n",
       "    <tr>\n",
       "      <th>291562</th>\n",
       "      <td>Washington</td>\n",
       "      <td>Bremerton</td>\n",
       "      <td>WA</td>\n",
       "      <td>Navy Yard City</td>\n",
       "      <td>47.564968</td>\n",
       "      <td>-122.657581</td>\n",
       "      <td>POINT (-122.65758 47.56497)</td>\n",
       "    </tr>\n",
       "    <tr>\n",
       "      <th>230103</th>\n",
       "      <td>California</td>\n",
       "      <td>Carlsbad</td>\n",
       "      <td>CA</td>\n",
       "      <td>Carlsbad City</td>\n",
       "      <td>33.099172</td>\n",
       "      <td>-117.246899</td>\n",
       "      <td>POINT (-117.24690 33.09917)</td>\n",
       "    </tr>\n",
       "  </tbody>\n",
       "</table>\n",
       "<p>2500 rows × 7 columns</p>\n",
       "</div>"
      ],
      "text/plain": [
       "             state         city state_ab                      place  \\\n",
       "UID                                                                   \n",
       "249744   Louisiana    Fort Polk       LA            Fort Polk North   \n",
       "290029    Virginia   Alexandria       VA        Bailey's Crossroads   \n",
       "247937    Kentucky    Fort Knox       KY                  Fort Knox   \n",
       "248394    Kentucky    Fort Knox       KY                  Fort Knox   \n",
       "225659  California  Los Angeles       CA        West Hollywood City   \n",
       "...            ...          ...      ...                        ...   \n",
       "246791      Kansas      Augusta       KS               Augusta City   \n",
       "254509    Michigan    Davisburg       MI  Village Of Clarkston City   \n",
       "231968    Colorado     Thornton       CO            Northglenn City   \n",
       "291562  Washington    Bremerton       WA             Navy Yard City   \n",
       "230103  California     Carlsbad       CA              Carlsbad City   \n",
       "\n",
       "              lat         lng                     geometry  \n",
       "UID                                                         \n",
       "249744  31.099609  -93.202088   POINT (-93.20209 31.09961)  \n",
       "290029  38.828707  -77.121251   POINT (-77.12125 38.82871)  \n",
       "247937  37.879246  -85.961748   POINT (-85.96175 37.87925)  \n",
       "248394  37.901474  -85.986474   POINT (-85.98647 37.90147)  \n",
       "225659  34.067232 -118.292902  POINT (-118.29290 34.06723)  \n",
       "...           ...         ...                          ...  \n",
       "246791  37.613920  -96.926250   POINT (-96.92625 37.61392)  \n",
       "254509  42.728586  -83.539028   POINT (-83.53903 42.72859)  \n",
       "231968  39.948761 -104.974382  POINT (-104.97438 39.94876)  \n",
       "291562  47.564968 -122.657581  POINT (-122.65758 47.56497)  \n",
       "230103  33.099172 -117.246899  POINT (-117.24690 33.09917)  \n",
       "\n",
       "[2500 rows x 7 columns]"
      ]
     },
     "execution_count": 77,
     "metadata": {},
     "output_type": "execute_result"
    }
   ],
   "source": [
    "import geopandas as gpd\n",
    "gdf = gpd.GeoDataFrame(top_2500_loc, geometry=gpd.points_from_xy(x=top_2500_loc.lng, y=top_2500_loc.lat))\n",
    "gdf"
   ]
  },
  {
   "cell_type": "markdown",
   "metadata": {},
   "source": [
    "#### Step2:- Use the following bad debt equation:\n",
    "\n",
    "Bad Debt = P (Second Mortgage ∩ Home Equity Loan)\n",
    "Bad Debt = second_mortgage + home_equity - home_equity_second_mortgage"
   ]
  },
  {
   "cell_type": "code",
   "execution_count": 33,
   "metadata": {},
   "outputs": [],
   "source": [
    "import numpy as np\n",
    "bad_debt_train= (df_train['second_mortgage']+ df_train['home_equity'])-df_train['home_equity_second_mortgage']\n",
    "bad_debt_test= (df_test['second_mortgage']+ df_test['home_equity'])-df_test['home_equity_second_mortgage']"
   ]
  },
  {
   "cell_type": "code",
   "execution_count": 34,
   "metadata": {},
   "outputs": [],
   "source": [
    "df_train['bad_debt']=bad_debt_train"
   ]
  },
  {
   "cell_type": "code",
   "execution_count": 35,
   "metadata": {},
   "outputs": [],
   "source": [
    "df_test['bad_debt']=bad_debt_test"
   ]
  },
  {
   "cell_type": "code",
   "execution_count": 36,
   "metadata": {},
   "outputs": [],
   "source": [
    "df_train['good_debt']=df_train['debt']-df_train['bad_debt']\n",
    "df_test['good_debt']=df_test['debt']-df_test['bad_debt']"
   ]
  },
  {
   "cell_type": "markdown",
   "metadata": {},
   "source": [
    "####  Create pie charts to show overall debt and bad debt"
   ]
  },
  {
   "cell_type": "code",
   "execution_count": 37,
   "metadata": {},
   "outputs": [
    {
     "data": {
      "image/png": "[encoded data removed]",
      "text/plain": [
       "<Figure size 432x288 with 1 Axes>"
      ]
     },
     "metadata": {},
     "output_type": "display_data"
    }
   ],
   "source": [
    "import matplotlib\n",
    "import matplotlib.pyplot as plt\n",
    "from pandas.plotting import scatter_matrix\n",
    "%matplotlib inline \n",
    "\n",
    "labels = 'Debt', 'Bad_Debt'\n",
    "sizes = [df_train['debt'].mean()*100, df_train['bad_debt'].mean()*100]\n",
    "colors = [ 'skyblue','red']\n",
    "explode = (0.1, 0)  # explode 1st slice\n",
    "\n",
    "# Plot\n",
    "plt.pie(sizes,explode=explode,labels=labels, colors=colors,\n",
    "autopct='%1.1f%%', shadow=True, startangle=90)\n",
    "\n",
    "plt.axis('equal')\n",
    "plt.show()"
   ]
  },
  {
   "cell_type": "markdown",
   "metadata": {},
   "source": [
    "#### Create Box and whisker plot and analyze the distribution for 2nd mortgage, home equity, good debt, and bad debt for different cities"
   ]
  },
  {
   "cell_type": "code",
   "execution_count": 38,
   "metadata": {},
   "outputs": [
    {
     "data": {
      "image/png": "[encoded data removed]",
      "text/plain": [
       "<Figure size 432x288 with 1 Axes>"
      ]
     },
     "metadata": {
      "needs_background": "light"
     },
     "output_type": "display_data"
    },
    {
     "data": {
      "image/png": "[encoded data removed]",
      "text/plain": [
       "<Figure size 432x288 with 1 Axes>"
      ]
     },
     "metadata": {
      "needs_background": "light"
     },
     "output_type": "display_data"
    },
    {
     "data": {
      "image/png": "[encoded data removed]",
      "text/plain": [
       "<Figure size 432x288 with 1 Axes>"
      ]
     },
     "metadata": {
      "needs_background": "light"
     },
     "output_type": "display_data"
    }
   ],
   "source": [
    "all_cities=df_train[['home_equity','second_mortgage','bad_debt', 'good_debt']]\n",
    "all_cities.plot.box(grid=True)\n",
    "plt.title('All Cities')\n",
    "plt.show()\n",
    "\n",
    "manhattan=df_train[df_train['city']=='Manhattan']\n",
    "manhattan=manhattan[['home_equity','second_mortgage','bad_debt', 'good_debt']]\n",
    "manhattan.plot.box(grid=True)\n",
    "plt.title('Manhattan')\n",
    "plt.show()\n",
    "\n",
    "hamilton=df_train[df_train['city']=='Hamilton']\n",
    "hamilton=hamilton[['home_equity','second_mortgage','bad_debt', 'good_debt']]\n",
    "hamilton.plot.box(grid=True)\n",
    "plt.title('Hamilton')\n",
    "plt.show()"
   ]
  },
  {
   "cell_type": "markdown",
   "metadata": {},
   "source": [
    "#### Create a collated income distribution chart for family income, house hold income, and remaining income\n",
    "\n",
    " "
   ]
  },
  {
   "cell_type": "code",
   "execution_count": 39,
   "metadata": {},
   "outputs": [
    {
     "name": "stderr",
     "output_type": "stream",
     "text": [
      "/usr/local/lib/python3.7/site-packages/seaborn/distributions.py:2619: FutureWarning: `distplot` is a deprecated function and will be removed in a future version. Please adapt your code to use either `displot` (a figure-level function with similar flexibility) or `histplot` (an axes-level function for histograms).\n",
      "  warnings.warn(msg, FutureWarning)\n",
      "/usr/local/lib/python3.7/site-packages/seaborn/distributions.py:2619: FutureWarning: `distplot` is a deprecated function and will be removed in a future version. Please adapt your code to use either `displot` (a figure-level function with similar flexibility) or `histplot` (an axes-level function for histograms).\n",
      "  warnings.warn(msg, FutureWarning)\n",
      "/usr/local/lib/python3.7/site-packages/seaborn/distributions.py:2619: FutureWarning: `distplot` is a deprecated function and will be removed in a future version. Please adapt your code to use either `displot` (a figure-level function with similar flexibility) or `histplot` (an axes-level function for histograms).\n",
      "  warnings.warn(msg, FutureWarning)\n"
     ]
    },
    {
     "data": {
      "image/png": "[encoded data removed]",
      "text/plain": [
       "<Figure size 1080x720 with 3 Axes>"
      ]
     },
     "metadata": {
      "needs_background": "light"
     },
     "output_type": "display_data"
    }
   ],
   "source": [
    "import seaborn as sns\n",
    "\n",
    "import seaborn as sns\n",
    "plt.figure(figsize=(15,10))\n",
    "\n",
    "plt.subplot(2,3,1)\n",
    "sns.distplot(df_train['hi_mean'])\n",
    "plt.title('Household_Income')\n",
    "\n",
    "plt.subplot(2,3,2)\n",
    "sns.distplot(df_train['family_mean'])\n",
    "plt.title('Family_Income')\n",
    "\n",
    "plt.subplot(2,3,3)\n",
    "sns.distplot(df_train['family_mean']-df_train['hi_mean'])\n",
    "plt.title('Remaining_Income_Distribution_chart')\n",
    "plt.show()"
   ]
  },
  {
   "cell_type": "markdown",
   "metadata": {},
   "source": [
    "## Project Task: Week 2"
   ]
  },
  {
   "cell_type": "markdown",
   "metadata": {},
   "source": [
    "### Exploratory Data Analysis (EDA):"
   ]
  },
  {
   "cell_type": "markdown",
   "metadata": {},
   "source": [
    "###  Perform EDA and come out with insights into population density and age. You may have to derive new fields (make sure to weight averages for accurate measurements):"
   ]
  },
  {
   "cell_type": "markdown",
   "metadata": {},
   "source": [
    "#### Use pop and ALand variables to create a new field called population density"
   ]
  },
  {
   "cell_type": "code",
   "execution_count": 40,
   "metadata": {},
   "outputs": [],
   "source": [
    "Pop_Density_train = df_train['pop'] / df_train['ALand']\n",
    "Pop_Density_test  = df_test['pop']  /  df_test['ALand']\n",
    "df_train['pop_density'] = Pop_Density_train\n",
    "df_test['pop_density'] = Pop_Density_test"
   ]
  },
  {
   "cell_type": "code",
   "execution_count": 41,
   "metadata": {},
   "outputs": [
    {
     "data": {
      "image/png": "[encoded data removed]",
      "text/plain": [
       "<Figure size 432x288 with 1 Axes>"
      ]
     },
     "metadata": {
      "needs_background": "light"
     },
     "output_type": "display_data"
    }
   ],
   "source": [
    "plt.hist(df_train['pop_density'], bins=50, color='purple', edgecolor='black')\n",
    "plt.title('population density')\n",
    "plt.show()"
   ]
  },
  {
   "cell_type": "markdown",
   "metadata": {},
   "source": [
    "#### Use male_age_median, female_age_median, male_pop, and female_pop to create a new field called median age c) Visualize the findings using appropriate chart type"
   ]
  },
  {
   "cell_type": "code",
   "execution_count": 42,
   "metadata": {},
   "outputs": [],
   "source": [
    "df_train[\"age_median\"] = (df_train[\"male_age_median\"]) + df_train[\"female_age_median\"] / 2 \n",
    "df_test[\"age_median\"]  = (df_test[\"male_age_median\"])  + df_test [\"female_age_median\"] / 2"
   ]
  },
  {
   "cell_type": "code",
   "execution_count": 43,
   "metadata": {},
   "outputs": [
    {
     "data": {
      "text/html": [
       "<div>\n",
       "<style scoped>\n",
       "    .dataframe tbody tr th:only-of-type {\n",
       "        vertical-align: middle;\n",
       "    }\n",
       "\n",
       "    .dataframe tbody tr th {\n",
       "        vertical-align: top;\n",
       "    }\n",
       "\n",
       "    .dataframe thead th {\n",
       "        text-align: right;\n",
       "    }\n",
       "</style>\n",
       "<table border=\"1\" class=\"dataframe\">\n",
       "  <thead>\n",
       "    <tr style=\"text-align: right;\">\n",
       "      <th></th>\n",
       "      <th>male_age_median</th>\n",
       "      <th>female_age_median</th>\n",
       "      <th>male_pop</th>\n",
       "      <th>female_pop</th>\n",
       "      <th>age_median</th>\n",
       "    </tr>\n",
       "    <tr>\n",
       "      <th>UID</th>\n",
       "      <th></th>\n",
       "      <th></th>\n",
       "      <th></th>\n",
       "      <th></th>\n",
       "      <th></th>\n",
       "    </tr>\n",
       "  </thead>\n",
       "  <tbody>\n",
       "    <tr>\n",
       "      <th>267822</th>\n",
       "      <td>44.00000</td>\n",
       "      <td>45.33333</td>\n",
       "      <td>2612</td>\n",
       "      <td>2618</td>\n",
       "      <td>66.666665</td>\n",
       "    </tr>\n",
       "    <tr>\n",
       "      <th>246444</th>\n",
       "      <td>32.00000</td>\n",
       "      <td>37.58333</td>\n",
       "      <td>1349</td>\n",
       "      <td>1284</td>\n",
       "      <td>50.791665</td>\n",
       "    </tr>\n",
       "    <tr>\n",
       "      <th>245683</th>\n",
       "      <td>40.83333</td>\n",
       "      <td>42.83333</td>\n",
       "      <td>3643</td>\n",
       "      <td>3238</td>\n",
       "      <td>62.249995</td>\n",
       "    </tr>\n",
       "    <tr>\n",
       "      <th>279653</th>\n",
       "      <td>48.91667</td>\n",
       "      <td>50.58333</td>\n",
       "      <td>1141</td>\n",
       "      <td>1559</td>\n",
       "      <td>74.208335</td>\n",
       "    </tr>\n",
       "    <tr>\n",
       "      <th>247218</th>\n",
       "      <td>22.41667</td>\n",
       "      <td>21.58333</td>\n",
       "      <td>2586</td>\n",
       "      <td>3051</td>\n",
       "      <td>33.208335</td>\n",
       "    </tr>\n",
       "  </tbody>\n",
       "</table>\n",
       "</div>"
      ],
      "text/plain": [
       "        male_age_median  female_age_median  male_pop  female_pop  age_median\n",
       "UID                                                                         \n",
       "267822         44.00000           45.33333      2612        2618   66.666665\n",
       "246444         32.00000           37.58333      1349        1284   50.791665\n",
       "245683         40.83333           42.83333      3643        3238   62.249995\n",
       "279653         48.91667           50.58333      1141        1559   74.208335\n",
       "247218         22.41667           21.58333      2586        3051   33.208335"
      ]
     },
     "execution_count": 43,
     "metadata": {},
     "output_type": "execute_result"
    }
   ],
   "source": [
    "df_train[[\"male_age_median\", \"female_age_median\", \"male_pop\", \"female_pop\", \"age_median\" ]].head()"
   ]
  },
  {
   "cell_type": "markdown",
   "metadata": {},
   "source": [
    "### Create bins for population into a new variable by selecting appropriate class interval so that the number of categories don’t exceed 5 for the ease of analysis."
   ]
  },
  {
   "cell_type": "markdown",
   "metadata": {},
   "source": [
    "####  Analyze the married, separated, and divorced population for these population brackets"
   ]
  },
  {
   "cell_type": "code",
   "execution_count": 44,
   "metadata": {},
   "outputs": [
    {
     "data": {
      "text/plain": [
       "very low     26901\n",
       "low            246\n",
       "medium           9\n",
       "high             4\n",
       "very high        1\n",
       "Name: pop_bins, dtype: int64"
      ]
     },
     "execution_count": 44,
     "metadata": {},
     "output_type": "execute_result"
    }
   ],
   "source": [
    "df_train['pop_bins'] = pd.cut(df_train['pop'], bins=5, labels=['very low','low','medium','high','very high'])\n",
    "df_train['pop_bins'].value_counts()"
   ]
  },
  {
   "cell_type": "code",
   "execution_count": 45,
   "metadata": {},
   "outputs": [
    {
     "data": {
      "text/html": [
       "<div>\n",
       "<style scoped>\n",
       "    .dataframe tbody tr th:only-of-type {\n",
       "        vertical-align: middle;\n",
       "    }\n",
       "\n",
       "    .dataframe tbody tr th {\n",
       "        vertical-align: top;\n",
       "    }\n",
       "\n",
       "    .dataframe thead th {\n",
       "        text-align: right;\n",
       "    }\n",
       "</style>\n",
       "<table border=\"1\" class=\"dataframe\">\n",
       "  <thead>\n",
       "    <tr style=\"text-align: right;\">\n",
       "      <th></th>\n",
       "      <th>married</th>\n",
       "      <th>separated</th>\n",
       "      <th>divorced</th>\n",
       "    </tr>\n",
       "    <tr>\n",
       "      <th>pop_bins</th>\n",
       "      <th></th>\n",
       "      <th></th>\n",
       "      <th></th>\n",
       "    </tr>\n",
       "  </thead>\n",
       "  <tbody>\n",
       "    <tr>\n",
       "      <th>very low</th>\n",
       "      <td>26901</td>\n",
       "      <td>26901</td>\n",
       "      <td>26901</td>\n",
       "    </tr>\n",
       "    <tr>\n",
       "      <th>low</th>\n",
       "      <td>246</td>\n",
       "      <td>246</td>\n",
       "      <td>246</td>\n",
       "    </tr>\n",
       "    <tr>\n",
       "      <th>medium</th>\n",
       "      <td>9</td>\n",
       "      <td>9</td>\n",
       "      <td>9</td>\n",
       "    </tr>\n",
       "    <tr>\n",
       "      <th>high</th>\n",
       "      <td>4</td>\n",
       "      <td>4</td>\n",
       "      <td>4</td>\n",
       "    </tr>\n",
       "    <tr>\n",
       "      <th>very high</th>\n",
       "      <td>1</td>\n",
       "      <td>1</td>\n",
       "      <td>1</td>\n",
       "    </tr>\n",
       "  </tbody>\n",
       "</table>\n",
       "</div>"
      ],
      "text/plain": [
       "           married  separated  divorced\n",
       "pop_bins                               \n",
       "very low     26901      26901     26901\n",
       "low            246        246       246\n",
       "medium           9          9         9\n",
       "high             4          4         4\n",
       "very high        1          1         1"
      ]
     },
     "execution_count": 45,
     "metadata": {},
     "output_type": "execute_result"
    }
   ],
   "source": [
    "df_train.groupby(by='pop_bins')[['married','separated','divorced']].count()"
   ]
  },
  {
   "cell_type": "code",
   "execution_count": 46,
   "metadata": {},
   "outputs": [
    {
     "data": {
      "text/html": [
       "<div>\n",
       "<style scoped>\n",
       "    .dataframe tbody tr th:only-of-type {\n",
       "        vertical-align: middle;\n",
       "    }\n",
       "\n",
       "    .dataframe tbody tr th {\n",
       "        vertical-align: top;\n",
       "    }\n",
       "\n",
       "    .dataframe thead tr th {\n",
       "        text-align: left;\n",
       "    }\n",
       "\n",
       "    .dataframe thead tr:last-of-type th {\n",
       "        text-align: right;\n",
       "    }\n",
       "</style>\n",
       "<table border=\"1\" class=\"dataframe\">\n",
       "  <thead>\n",
       "    <tr>\n",
       "      <th></th>\n",
       "      <th colspan=\"2\" halign=\"left\">married</th>\n",
       "      <th colspan=\"2\" halign=\"left\">separated</th>\n",
       "      <th colspan=\"2\" halign=\"left\">divorced</th>\n",
       "    </tr>\n",
       "    <tr>\n",
       "      <th></th>\n",
       "      <th>mean</th>\n",
       "      <th>median</th>\n",
       "      <th>mean</th>\n",
       "      <th>median</th>\n",
       "      <th>mean</th>\n",
       "      <th>median</th>\n",
       "    </tr>\n",
       "    <tr>\n",
       "      <th>pop_bins</th>\n",
       "      <th></th>\n",
       "      <th></th>\n",
       "      <th></th>\n",
       "      <th></th>\n",
       "      <th></th>\n",
       "      <th></th>\n",
       "    </tr>\n",
       "  </thead>\n",
       "  <tbody>\n",
       "    <tr>\n",
       "      <th>very low</th>\n",
       "      <td>0.508546</td>\n",
       "      <td>0.525390</td>\n",
       "      <td>0.019109</td>\n",
       "      <td>0.013640</td>\n",
       "      <td>0.100634</td>\n",
       "      <td>0.096080</td>\n",
       "    </tr>\n",
       "    <tr>\n",
       "      <th>low</th>\n",
       "      <td>0.584894</td>\n",
       "      <td>0.593135</td>\n",
       "      <td>0.015833</td>\n",
       "      <td>0.011195</td>\n",
       "      <td>0.075348</td>\n",
       "      <td>0.070045</td>\n",
       "    </tr>\n",
       "    <tr>\n",
       "      <th>medium</th>\n",
       "      <td>0.655737</td>\n",
       "      <td>0.618710</td>\n",
       "      <td>0.005003</td>\n",
       "      <td>0.004120</td>\n",
       "      <td>0.065927</td>\n",
       "      <td>0.064890</td>\n",
       "    </tr>\n",
       "    <tr>\n",
       "      <th>high</th>\n",
       "      <td>0.629132</td>\n",
       "      <td>0.675095</td>\n",
       "      <td>0.012373</td>\n",
       "      <td>0.007340</td>\n",
       "      <td>0.060563</td>\n",
       "      <td>0.059870</td>\n",
       "    </tr>\n",
       "    <tr>\n",
       "      <th>very high</th>\n",
       "      <td>0.734740</td>\n",
       "      <td>0.734740</td>\n",
       "      <td>0.004050</td>\n",
       "      <td>0.004050</td>\n",
       "      <td>0.030360</td>\n",
       "      <td>0.030360</td>\n",
       "    </tr>\n",
       "  </tbody>\n",
       "</table>\n",
       "</div>"
      ],
      "text/plain": [
       "            married           separated            divorced          \n",
       "               mean    median      mean    median      mean    median\n",
       "pop_bins                                                             \n",
       "very low   0.508546  0.525390  0.019109  0.013640  0.100634  0.096080\n",
       "low        0.584894  0.593135  0.015833  0.011195  0.075348  0.070045\n",
       "medium     0.655737  0.618710  0.005003  0.004120  0.065927  0.064890\n",
       "high       0.629132  0.675095  0.012373  0.007340  0.060563  0.059870\n",
       "very high  0.734740  0.734740  0.004050  0.004050  0.030360  0.030360"
      ]
     },
     "execution_count": 46,
     "metadata": {},
     "output_type": "execute_result"
    }
   ],
   "source": [
    "df_train.groupby(by='pop_bins')[['married','separated','divorced']].agg([\"mean\", \"median\"])"
   ]
  },
  {
   "cell_type": "markdown",
   "metadata": {},
   "source": [
    "####  Visualize using appropriate chart type"
   ]
  },
  {
   "cell_type": "code",
   "execution_count": 47,
   "metadata": {},
   "outputs": [
    {
     "data": {
      "text/plain": [
       "<Figure size 720x360 with 0 Axes>"
      ]
     },
     "metadata": {},
     "output_type": "display_data"
    },
    {
     "data": {
      "image/png": "[encoded data removed]",
      "text/plain": [
       "<Figure size 1440x576 with 1 Axes>"
      ]
     },
     "metadata": {
      "needs_background": "light"
     },
     "output_type": "display_data"
    }
   ],
   "source": [
    "plt.figure(figsize=(10,5))\n",
    "pop_bin_married=df_train.groupby(by='pop_bins')[['married','separated','divorced']].agg([\"mean\"])\n",
    "pop_bin_married.plot(figsize=(20,8))\n",
    "plt.legend(loc='best')\n",
    "plt.show()"
   ]
  },
  {
   "cell_type": "code",
   "execution_count": 48,
   "metadata": {},
   "outputs": [
    {
     "data": {
      "image/png": "[encoded data removed]",
      "text/plain": [
       "<Figure size 432x288 with 1 Axes>"
      ]
     },
     "metadata": {
      "needs_background": "light"
     },
     "output_type": "display_data"
    },
    {
     "data": {
      "image/png": "[encoded data removed]",
      "text/plain": [
       "<Figure size 432x288 with 1 Axes>"
      ]
     },
     "metadata": {
      "needs_background": "light"
     },
     "output_type": "display_data"
    },
    {
     "data": {
      "image/png": "[encoded data removed]",
      "text/plain": [
       "<Figure size 432x288 with 1 Axes>"
      ]
     },
     "metadata": {
      "needs_background": "light"
     },
     "output_type": "display_data"
    },
    {
     "data": {
      "image/png": "[encoded data removed]",
      "text/plain": [
       "<Figure size 432x288 with 1 Axes>"
      ]
     },
     "metadata": {
      "needs_background": "light"
     },
     "output_type": "display_data"
    },
    {
     "data": {
      "image/png": "[encoded data removed]",
      "text/plain": [
       "<Figure size 432x288 with 1 Axes>"
      ]
     },
     "metadata": {
      "needs_background": "light"
     },
     "output_type": "display_data"
    }
   ],
   "source": [
    "df_train.groupby(by='pop_bins')[['married','divorced', 'separated']].plot.box(grid='True')\n",
    "plt.show()"
   ]
  },
  {
   "cell_type": "markdown",
   "metadata": {},
   "source": [
    "####  Please detail your observations for rent as a percentage of income at an overall level, and for different states"
   ]
  },
  {
   "cell_type": "code",
   "execution_count": 49,
   "metadata": {},
   "outputs": [
    {
     "data": {
      "text/html": [
       "<div>\n",
       "<style scoped>\n",
       "    .dataframe tbody tr th:only-of-type {\n",
       "        vertical-align: middle;\n",
       "    }\n",
       "\n",
       "    .dataframe tbody tr th {\n",
       "        vertical-align: top;\n",
       "    }\n",
       "\n",
       "    .dataframe thead th {\n",
       "        text-align: right;\n",
       "    }\n",
       "</style>\n",
       "<table border=\"1\" class=\"dataframe\">\n",
       "  <thead>\n",
       "    <tr style=\"text-align: right;\">\n",
       "      <th></th>\n",
       "      <th>mean</th>\n",
       "    </tr>\n",
       "    <tr>\n",
       "      <th>state</th>\n",
       "      <th></th>\n",
       "    </tr>\n",
       "  </thead>\n",
       "  <tbody>\n",
       "    <tr>\n",
       "      <th>Alabama</th>\n",
       "      <td>774.006498</td>\n",
       "    </tr>\n",
       "    <tr>\n",
       "      <th>Alaska</th>\n",
       "      <td>1185.763570</td>\n",
       "    </tr>\n",
       "    <tr>\n",
       "      <th>Arizona</th>\n",
       "      <td>1098.689988</td>\n",
       "    </tr>\n",
       "    <tr>\n",
       "      <th>Arkansas</th>\n",
       "      <td>718.425272</td>\n",
       "    </tr>\n",
       "    <tr>\n",
       "      <th>California</th>\n",
       "      <td>1473.493903</td>\n",
       "    </tr>\n",
       "  </tbody>\n",
       "</table>\n",
       "</div>"
      ],
      "text/plain": [
       "                   mean\n",
       "state                  \n",
       "Alabama      774.006498\n",
       "Alaska      1185.763570\n",
       "Arizona     1098.689988\n",
       "Arkansas     718.425272\n",
       "California  1473.493903"
      ]
     },
     "execution_count": 49,
     "metadata": {},
     "output_type": "execute_result"
    }
   ],
   "source": [
    "rent_state_mean=df_train.groupby(by='state')['rent_mean'].agg([\"mean\"])\n",
    "rent_state_mean.head()"
   ]
  },
  {
   "cell_type": "code",
   "execution_count": 50,
   "metadata": {},
   "outputs": [
    {
     "data": {
      "text/html": [
       "<div>\n",
       "<style scoped>\n",
       "    .dataframe tbody tr th:only-of-type {\n",
       "        vertical-align: middle;\n",
       "    }\n",
       "\n",
       "    .dataframe tbody tr th {\n",
       "        vertical-align: top;\n",
       "    }\n",
       "\n",
       "    .dataframe thead th {\n",
       "        text-align: right;\n",
       "    }\n",
       "</style>\n",
       "<table border=\"1\" class=\"dataframe\">\n",
       "  <thead>\n",
       "    <tr style=\"text-align: right;\">\n",
       "      <th></th>\n",
       "      <th>mean</th>\n",
       "    </tr>\n",
       "    <tr>\n",
       "      <th>state</th>\n",
       "      <th></th>\n",
       "    </tr>\n",
       "  </thead>\n",
       "  <tbody>\n",
       "    <tr>\n",
       "      <th>Alabama</th>\n",
       "      <td>67030.487478</td>\n",
       "    </tr>\n",
       "    <tr>\n",
       "      <th>Alaska</th>\n",
       "      <td>92136.545109</td>\n",
       "    </tr>\n",
       "    <tr>\n",
       "      <th>Arizona</th>\n",
       "      <td>73390.637993</td>\n",
       "    </tr>\n",
       "    <tr>\n",
       "      <th>Arkansas</th>\n",
       "      <td>64409.153057</td>\n",
       "    </tr>\n",
       "    <tr>\n",
       "      <th>California</th>\n",
       "      <td>87831.121491</td>\n",
       "    </tr>\n",
       "  </tbody>\n",
       "</table>\n",
       "</div>"
      ],
      "text/plain": [
       "                    mean\n",
       "state                   \n",
       "Alabama     67030.487478\n",
       "Alaska      92136.545109\n",
       "Arizona     73390.637993\n",
       "Arkansas    64409.153057\n",
       "California  87831.121491"
      ]
     },
     "execution_count": 50,
     "metadata": {},
     "output_type": "execute_result"
    }
   ],
   "source": [
    "income_state_mean=df_train.groupby(by='state')['family_mean'].agg([\"mean\"])\n",
    "income_state_mean.head()"
   ]
  },
  {
   "cell_type": "code",
   "execution_count": 51,
   "metadata": {},
   "outputs": [
    {
     "data": {
      "text/plain": [
       "state\n",
       "Alabama                 0.011547\n",
       "Alaska                  0.012870\n",
       "Arizona                 0.014970\n",
       "Arkansas                0.011154\n",
       "California              0.016776\n",
       "Colorado                0.013554\n",
       "Connecticut             0.012612\n",
       "Delaware                0.012929\n",
       "District of Columbia    0.013196\n",
       "Florida                 0.015789\n",
       "Name: mean, dtype: float64"
      ]
     },
     "execution_count": 51,
     "metadata": {},
     "output_type": "execute_result"
    }
   ],
   "source": [
    "rent_perc_of_income=rent_state_mean['mean']/income_state_mean['mean']\n",
    "rent_perc_of_income.head(10)"
   ]
  },
  {
   "cell_type": "code",
   "execution_count": 52,
   "metadata": {},
   "outputs": [
    {
     "data": {
      "text/plain": [
       "0.013351076774049805"
      ]
     },
     "execution_count": 52,
     "metadata": {},
     "output_type": "execute_result"
    }
   ],
   "source": [
    "sum(df_train['rent_mean'])/sum(df_train['family_mean'])"
   ]
  },
  {
   "cell_type": "markdown",
   "metadata": {},
   "source": [
    "####  Perform correlation analysis for all the relevant variables by creating a heatmap. Describe your findings.\n",
    "\n"
   ]
  },
  {
   "cell_type": "code",
   "execution_count": 53,
   "metadata": {},
   "outputs": [
    {
     "data": {
      "image/png": "[encoded data removed]",
      "text/plain": [
       "<Figure size 1224x504 with 2 Axes>"
      ]
     },
     "metadata": {
      "needs_background": "light"
     },
     "output_type": "display_data"
    }
   ],
   "source": [
    "plt.figure(figsize=(17,7))\n",
    "sns.heatmap(data=df_train[['hc_mortgage_mean','ALand','pop','rent_mean','hi_mean','hc_mean','family_mean',\n",
    "                           'hs_degree','debt','home_equity']].corr(),annot=True)\n",
    "plt.show()"
   ]
  },
  {
   "cell_type": "markdown",
   "metadata": {},
   "source": [
    "## Project Task: Week 3"
   ]
  },
  {
   "cell_type": "markdown",
   "metadata": {},
   "source": [
    "### Data Pre-processing:\n",
    "\n"
   ]
  },
  {
   "cell_type": "markdown",
   "metadata": {},
   "source": [
    "#### 1. The economic multivariate data has a significant number of measured variables. The goal is to find where the measured variables depend on a number of smaller unobserved common factors or latent variables. 2. Each variable is assumed to be dependent upon a linear combination of the common factors, and the coefficients are known as loadings. Each measured variable also includes a component due to independent      random variability, known as “specific variance” because it is specific to one variable. Obtain the common factors and then plot the loadings. Use factor analysis to find latent variables in our dataset and gain          insight into the linear relationships in the data. Following are the list of latent variables:\n",
    "\n",
    "• Highschool graduation rates\n",
    "\n",
    "• Median population age\n",
    "\n",
    "• Second mortgage statistics\n",
    "\n",
    "• Percent own\n",
    "\n",
    "• Bad debt expense\n",
    "\n",
    " "
   ]
  },
  {
   "cell_type": "code",
   "execution_count": 54,
   "metadata": {
    "collapsed": true,
    "jupyter": {
     "outputs_hidden": true
    },
    "tags": []
   },
   "outputs": [
    {
     "name": "stdout",
     "output_type": "stream",
     "text": [
      "Defaulting to user installation because normal site-packages is not writeable\n",
      "Requirement already satisfied: factor_analyzer in /home/labsuser/.local/lib/python3.7/site-packages (0.4.1)\n",
      "Requirement already satisfied: scikit-learn in /usr/local/lib/python3.7/site-packages (from factor_analyzer) (1.0.2)\n",
      "Requirement already satisfied: pandas in /usr/local/lib/python3.7/site-packages (from factor_analyzer) (1.1.5)\n",
      "Requirement already satisfied: scipy in /usr/local/lib/python3.7/site-packages (from factor_analyzer) (1.4.1)\n",
      "Requirement already satisfied: numpy in /usr/local/lib/python3.7/site-packages (from factor_analyzer) (1.21.5)\n",
      "Requirement already satisfied: pre-commit in /home/labsuser/.local/lib/python3.7/site-packages (from factor_analyzer) (2.21.0)\n",
      "Requirement already satisfied: pytz>=2017.2 in /usr/local/lib/python3.7/site-packages (from pandas->factor_analyzer) (2019.3)\n",
      "Requirement already satisfied: python-dateutil>=2.7.3 in /usr/local/lib/python3.7/site-packages (from pandas->factor_analyzer) (2.8.1)\n",
      "Requirement already satisfied: nodeenv>=0.11.1 in /home/labsuser/.local/lib/python3.7/site-packages (from pre-commit->factor_analyzer) (1.7.0)\n",
      "Requirement already satisfied: importlib-metadata in /usr/local/lib/python3.7/site-packages (from pre-commit->factor_analyzer) (1.6.0)\n",
      "Requirement already satisfied: pyyaml>=5.1 in /usr/local/lib/python3.7/site-packages (from pre-commit->factor_analyzer) (5.3.1)\n",
      "Requirement already satisfied: identify>=1.0.0 in /home/labsuser/.local/lib/python3.7/site-packages (from pre-commit->factor_analyzer) (2.5.17)\n",
      "Requirement already satisfied: cfgv>=2.0.0 in /home/labsuser/.local/lib/python3.7/site-packages (from pre-commit->factor_analyzer) (3.3.1)\n",
      "Requirement already satisfied: virtualenv>=20.10.0 in /home/labsuser/.local/lib/python3.7/site-packages (from pre-commit->factor_analyzer) (20.19.0)\n",
      "Requirement already satisfied: joblib>=0.11 in /usr/local/lib/python3.7/site-packages (from scikit-learn->factor_analyzer) (0.14.1)\n",
      "Requirement already satisfied: threadpoolctl>=2.0.0 in /usr/local/lib/python3.7/site-packages (from scikit-learn->factor_analyzer) (2.2.0)\n",
      "Requirement already satisfied: setuptools in /usr/local/lib/python3.7/site-packages (from nodeenv>=0.11.1->pre-commit->factor_analyzer) (41.2.0)\n",
      "Requirement already satisfied: six>=1.5 in /usr/local/lib/python3.7/site-packages (from python-dateutil>=2.7.3->pandas->factor_analyzer) (1.14.0)\n",
      "Collecting importlib-metadata\n",
      "  Using cached importlib_metadata-6.0.0-py3-none-any.whl (21 kB)\n",
      "Collecting filelock<4,>=3.4.1\n",
      "  Using cached filelock-3.9.0-py3-none-any.whl (9.7 kB)\n",
      "Requirement already satisfied: platformdirs<4,>=2.4 in /home/labsuser/.local/lib/python3.7/site-packages (from virtualenv>=20.10.0->pre-commit->factor_analyzer) (3.0.0)\n",
      "Requirement already satisfied: distlib<1,>=0.3.6 in /home/labsuser/.local/lib/python3.7/site-packages (from virtualenv>=20.10.0->pre-commit->factor_analyzer) (0.3.6)\n",
      "Requirement already satisfied: typing-extensions>=3.6.4 in /usr/local/lib/python3.7/site-packages (from importlib-metadata->pre-commit->factor_analyzer) (4.0.1)\n",
      "Requirement already satisfied: zipp>=0.5 in /usr/local/lib/python3.7/site-packages (from importlib-metadata->pre-commit->factor_analyzer) (3.1.0)\n",
      "Collecting typing-extensions>=3.6.4\n",
      "  Using cached typing_extensions-4.4.0-py3-none-any.whl (26 kB)\n",
      "Installing collected packages: typing-extensions, filelock, importlib-metadata\n",
      "\u001b[31mERROR: pip's dependency resolver does not currently take into account all the packages that are installed. This behaviour is the source of the following dependency conflicts.\n",
      "konoha 4.6.5 requires overrides<4.0.0,>=3.0.0, which is not installed.\n",
      "flair 0.8.1 requires more-itertools~=8.8.0, but you have more-itertools 8.2.0 which is incompatible.\n",
      "konoha 4.6.5 requires importlib-metadata<4.0.0,>=3.7.0, but you have importlib-metadata 6.0.0 which is incompatible.\n",
      "konoha 4.6.5 requires requests<3.0.0,>=2.25.1, but you have requests 2.23.0 which is incompatible.\u001b[0m\u001b[31m\n",
      "\u001b[0mSuccessfully installed filelock-3.9.0 importlib-metadata-6.0.0 typing-extensions-4.4.0\n",
      "\u001b[33mWARNING: You are using pip version 22.0.3; however, version 23.0 is available.\n",
      "You should consider upgrading via the '/usr/local/bin/python3.7 -m pip install --upgrade pip' command.\u001b[0m\u001b[33m\n",
      "\u001b[0mNote: you may need to restart the kernel to use updated packages.\n"
     ]
    }
   ],
   "source": [
    "pip install factor_analyzer"
   ]
  },
  {
   "cell_type": "code",
   "execution_count": 55,
   "metadata": {},
   "outputs": [],
   "source": [
    "import warnings\n",
    "warnings.filterwarnings('ignore')"
   ]
  },
  {
   "cell_type": "code",
   "execution_count": 56,
   "metadata": {},
   "outputs": [],
   "source": [
    "from sklearn.decomposition import FactorAnalysis\n",
    "from factor_analyzer import FactorAnalyzer"
   ]
  },
  {
   "cell_type": "code",
   "execution_count": 57,
   "metadata": {},
   "outputs": [
    {
     "data": {
      "text/plain": [
       "0"
      ]
     },
     "execution_count": 57,
     "metadata": {},
     "output_type": "execute_result"
    }
   ],
   "source": [
    "df_train.isna().sum().sum()"
   ]
  },
  {
   "cell_type": "code",
   "execution_count": 58,
   "metadata": {},
   "outputs": [
    {
     "data": {
      "text/html": [
       "<div>\n",
       "<style scoped>\n",
       "    .dataframe tbody tr th:only-of-type {\n",
       "        vertical-align: middle;\n",
       "    }\n",
       "\n",
       "    .dataframe tbody tr th {\n",
       "        vertical-align: top;\n",
       "    }\n",
       "\n",
       "    .dataframe thead th {\n",
       "        text-align: right;\n",
       "    }\n",
       "</style>\n",
       "<table border=\"1\" class=\"dataframe\">\n",
       "  <thead>\n",
       "    <tr style=\"text-align: right;\">\n",
       "      <th></th>\n",
       "      <th>count</th>\n",
       "      <th>mean</th>\n",
       "      <th>std</th>\n",
       "      <th>min</th>\n",
       "      <th>25%</th>\n",
       "      <th>50%</th>\n",
       "      <th>75%</th>\n",
       "      <th>max</th>\n",
       "    </tr>\n",
       "  </thead>\n",
       "  <tbody>\n",
       "    <tr>\n",
       "      <th>COUNTYID</th>\n",
       "      <td>27161.0</td>\n",
       "      <td>85.660322</td>\n",
       "      <td>98.373195</td>\n",
       "      <td>1.000000</td>\n",
       "      <td>29.000000</td>\n",
       "      <td>63.000000</td>\n",
       "      <td>109.000000</td>\n",
       "      <td>840.000000</td>\n",
       "    </tr>\n",
       "    <tr>\n",
       "      <th>STATEID</th>\n",
       "      <td>27161.0</td>\n",
       "      <td>28.267185</td>\n",
       "      <td>16.385918</td>\n",
       "      <td>1.000000</td>\n",
       "      <td>13.000000</td>\n",
       "      <td>28.000000</td>\n",
       "      <td>42.000000</td>\n",
       "      <td>72.000000</td>\n",
       "    </tr>\n",
       "    <tr>\n",
       "      <th>zip_code</th>\n",
       "      <td>27161.0</td>\n",
       "      <td>50105.133243</td>\n",
       "      <td>29546.218041</td>\n",
       "      <td>602.000000</td>\n",
       "      <td>26847.000000</td>\n",
       "      <td>47804.000000</td>\n",
       "      <td>77093.000000</td>\n",
       "      <td>99925.000000</td>\n",
       "    </tr>\n",
       "    <tr>\n",
       "      <th>area_code</th>\n",
       "      <td>27161.0</td>\n",
       "      <td>596.589816</td>\n",
       "      <td>232.424069</td>\n",
       "      <td>201.000000</td>\n",
       "      <td>405.000000</td>\n",
       "      <td>614.000000</td>\n",
       "      <td>801.000000</td>\n",
       "      <td>989.000000</td>\n",
       "    </tr>\n",
       "    <tr>\n",
       "      <th>lat</th>\n",
       "      <td>27161.0</td>\n",
       "      <td>37.519180</td>\n",
       "      <td>5.585968</td>\n",
       "      <td>17.929085</td>\n",
       "      <td>33.906105</td>\n",
       "      <td>38.760645</td>\n",
       "      <td>41.393414</td>\n",
       "      <td>67.074018</td>\n",
       "    </tr>\n",
       "    <tr>\n",
       "      <th>...</th>\n",
       "      <td>...</td>\n",
       "      <td>...</td>\n",
       "      <td>...</td>\n",
       "      <td>...</td>\n",
       "      <td>...</td>\n",
       "      <td>...</td>\n",
       "      <td>...</td>\n",
       "      <td>...</td>\n",
       "    </tr>\n",
       "    <tr>\n",
       "      <th>divorced</th>\n",
       "      <td>27161.0</td>\n",
       "      <td>0.100385</td>\n",
       "      <td>0.048673</td>\n",
       "      <td>0.000000</td>\n",
       "      <td>0.066210</td>\n",
       "      <td>0.095660</td>\n",
       "      <td>0.128830</td>\n",
       "      <td>1.000000</td>\n",
       "    </tr>\n",
       "    <tr>\n",
       "      <th>bad_debt</th>\n",
       "      <td>27161.0</td>\n",
       "      <td>0.105161</td>\n",
       "      <td>0.070420</td>\n",
       "      <td>0.000000</td>\n",
       "      <td>0.052840</td>\n",
       "      <td>0.100190</td>\n",
       "      <td>0.148650</td>\n",
       "      <td>1.000000</td>\n",
       "    </tr>\n",
       "    <tr>\n",
       "      <th>good_debt</th>\n",
       "      <td>27161.0</td>\n",
       "      <td>0.524461</td>\n",
       "      <td>0.129606</td>\n",
       "      <td>0.000000</td>\n",
       "      <td>0.449290</td>\n",
       "      <td>0.525880</td>\n",
       "      <td>0.604360</td>\n",
       "      <td>1.000000</td>\n",
       "    </tr>\n",
       "    <tr>\n",
       "      <th>pop_density</th>\n",
       "      <td>27161.0</td>\n",
       "      <td>0.002044</td>\n",
       "      <td>0.004509</td>\n",
       "      <td>0.000000</td>\n",
       "      <td>0.000121</td>\n",
       "      <td>0.000851</td>\n",
       "      <td>0.002056</td>\n",
       "      <td>0.076536</td>\n",
       "    </tr>\n",
       "    <tr>\n",
       "      <th>age_median</th>\n",
       "      <td>27161.0</td>\n",
       "      <td>58.312437</td>\n",
       "      <td>11.350315</td>\n",
       "      <td>19.583330</td>\n",
       "      <td>50.750005</td>\n",
       "      <td>58.249995</td>\n",
       "      <td>65.250000</td>\n",
       "      <td>120.250005</td>\n",
       "    </tr>\n",
       "  </tbody>\n",
       "</table>\n",
       "<p>75 rows × 8 columns</p>\n",
       "</div>"
      ],
      "text/plain": [
       "               count          mean           std         min           25%  \\\n",
       "COUNTYID     27161.0     85.660322     98.373195    1.000000     29.000000   \n",
       "STATEID      27161.0     28.267185     16.385918    1.000000     13.000000   \n",
       "zip_code     27161.0  50105.133243  29546.218041  602.000000  26847.000000   \n",
       "area_code    27161.0    596.589816    232.424069  201.000000    405.000000   \n",
       "lat          27161.0     37.519180      5.585968   17.929085     33.906105   \n",
       "...              ...           ...           ...         ...           ...   \n",
       "divorced     27161.0      0.100385      0.048673    0.000000      0.066210   \n",
       "bad_debt     27161.0      0.105161      0.070420    0.000000      0.052840   \n",
       "good_debt    27161.0      0.524461      0.129606    0.000000      0.449290   \n",
       "pop_density  27161.0      0.002044      0.004509    0.000000      0.000121   \n",
       "age_median   27161.0     58.312437     11.350315   19.583330     50.750005   \n",
       "\n",
       "                      50%           75%           max  \n",
       "COUNTYID        63.000000    109.000000    840.000000  \n",
       "STATEID         28.000000     42.000000     72.000000  \n",
       "zip_code     47804.000000  77093.000000  99925.000000  \n",
       "area_code      614.000000    801.000000    989.000000  \n",
       "lat             38.760645     41.393414     67.074018  \n",
       "...                   ...           ...           ...  \n",
       "divorced         0.095660      0.128830      1.000000  \n",
       "bad_debt         0.100190      0.148650      1.000000  \n",
       "good_debt        0.525880      0.604360      1.000000  \n",
       "pop_density      0.000851      0.002056      0.076536  \n",
       "age_median      58.249995     65.250000    120.250005  \n",
       "\n",
       "[75 rows x 8 columns]"
      ]
     },
     "execution_count": 58,
     "metadata": {},
     "output_type": "execute_result"
    }
   ],
   "source": [
    "df_train.describe().T"
   ]
  },
  {
   "cell_type": "code",
   "execution_count": 59,
   "metadata": {},
   "outputs": [
    {
     "data": {
      "text/plain": [
       "array([[-1.15759081e-01,  2.00055216e-02, -2.45611427e-02,\n",
       "        -6.06708735e-02,  3.61941512e-02],\n",
       "       [-1.11084214e-01,  1.60955276e-02,  2.22636663e-02,\n",
       "        -1.46779071e-01,  1.11935708e-01],\n",
       "       [-9.13208725e-02,  4.64320589e-02, -1.16766671e-01,\n",
       "        -4.90561732e-02, -1.24977866e-01],\n",
       "       [ 1.52239891e-02,  1.75423622e-02,  6.67313507e-03,\n",
       "         2.90478833e-02, -1.06904322e-02],\n",
       "       [ 9.27260128e-02, -1.01923154e-01, -4.22379777e-02,\n",
       "        -1.36160228e-01, -1.47031785e-01],\n",
       "       [-3.81436319e-03, -3.58193367e-02,  1.30148637e-01,\n",
       "         8.97438385e-03,  1.28595596e-01],\n",
       "       [-4.30877758e-02, -2.12163745e-02,  3.69486367e-02,\n",
       "        -9.17297628e-02,  6.37042910e-02],\n",
       "       [-2.55233407e-03, -1.54595736e-02, -2.23485195e-03,\n",
       "        -4.38247409e-02,  2.45609081e-02],\n",
       "       [ 7.76247211e-02,  9.54839681e-01, -9.62874649e-02,\n",
       "        -3.51584474e-03, -6.49488480e-02],\n",
       "       [ 6.97454223e-02,  9.20491780e-01, -1.10935333e-01,\n",
       "        -2.37741196e-02, -7.12650910e-02],\n",
       "       [ 8.22657264e-02,  9.47511847e-01, -7.78369037e-02,\n",
       "         1.65466290e-02, -5.64043364e-02],\n",
       "       [ 7.61209659e-01,  4.98534153e-03, -3.96769312e-02,\n",
       "         1.17451113e-01, -1.47601339e-01],\n",
       "       [ 7.09297890e-01,  1.06981530e-03, -4.49031146e-02,\n",
       "         1.11890023e-01, -1.59781504e-01],\n",
       "       [ 7.07795099e-01,  2.30913416e-02, -4.64050958e-02,\n",
       "         1.02785524e-01,  6.59662191e-02],\n",
       "       [-1.19146178e-01,  3.36986203e-01, -5.52895865e-01,\n",
       "        -5.31703799e-02,  2.98780955e-01],\n",
       "       [ 2.49392174e-01,  4.27419969e-01, -7.25651203e-01,\n",
       "        -3.80879259e-02,  3.10232846e-01],\n",
       "       [-4.59138534e-02,  3.37372207e-02,  2.83065815e-02,\n",
       "         4.33123852e-01, -1.63812282e-01],\n",
       "       [-2.44404890e-02,  1.62767392e-02,  3.21673245e-02,\n",
       "         6.59981090e-01, -1.53223617e-01],\n",
       "       [-3.66602864e-02, -1.62456174e-02,  5.44785051e-02,\n",
       "         8.18906497e-01, -8.41369870e-02],\n",
       "       [-4.87254730e-02, -3.44477488e-02,  7.63874234e-02,\n",
       "         9.08064819e-01, -3.42749741e-02],\n",
       "       [-5.86718507e-02, -4.32062432e-02,  9.89202809e-02,\n",
       "         9.37263179e-01, -1.03595377e-02],\n",
       "       [-4.43796006e-02, -5.17146038e-02,  1.02248990e-01,\n",
       "         9.18345203e-01,  1.12723588e-02],\n",
       "       [-4.05623823e-02, -5.83071451e-02,  9.08942331e-02,\n",
       "         8.73763852e-01,  2.12192935e-02],\n",
       "       [-2.35374952e-02, -7.18712947e-02,  5.75818730e-02,\n",
       "         7.66551296e-01,  3.81509166e-02],\n",
       "       [ 2.31369853e-01,  4.54825403e-01, -7.05018253e-01,\n",
       "        -3.80264993e-02,  3.33086030e-01],\n",
       "       [ 2.51705172e-01,  4.35534089e-01, -7.15558672e-01,\n",
       "        -4.05806393e-02,  3.07045148e-01],\n",
       "       [ 7.78195701e-01,  4.80083494e-02,  1.60296257e-01,\n",
       "        -1.94787383e-01, -1.63809294e-01],\n",
       "       [ 7.01211462e-01,  4.81598590e-02,  1.60888098e-01,\n",
       "        -2.07366692e-01, -2.22703112e-01],\n",
       "       [ 8.63863772e-01,  4.39453072e-02,  1.39391902e-01,\n",
       "        -1.17763061e-01,  3.30180998e-02],\n",
       "       [-2.07575283e-01,  8.47307078e-01, -1.07277989e-01,\n",
       "         5.97681596e-02,  2.36537086e-01],\n",
       "       [ 1.57773261e-01,  9.55623026e-01, -2.47844065e-02,\n",
       "        -5.03973458e-02,  1.03533908e-01],\n",
       "       [ 8.27896532e-01,  3.49225686e-02,  1.61161669e-01,\n",
       "        -1.97465388e-01, -7.70407280e-02],\n",
       "       [ 7.90492806e-01,  2.86014727e-02,  1.56414934e-01,\n",
       "        -1.99640395e-01, -9.50107187e-02],\n",
       "       [ 8.17801316e-01,  4.49085719e-02,  1.10491744e-01,\n",
       "        -1.07972656e-01,  6.25052351e-02],\n",
       "       [-3.39908208e-01,  8.61754767e-01,  1.96473424e-02,\n",
       "         9.03795109e-02,  4.06073172e-02],\n",
       "       [ 5.13082986e-02,  9.33644649e-01,  1.48872571e-01,\n",
       "        -2.22743024e-02, -9.60967244e-02],\n",
       "       [ 9.79579808e-01, -3.22699440e-02, -1.39437441e-01,\n",
       "         4.56859696e-02,  5.75874724e-02],\n",
       "       [ 9.59378506e-01, -3.84499909e-02, -1.52786904e-01,\n",
       "         4.61023889e-02,  4.79799821e-02],\n",
       "       [ 8.22665241e-01,  4.67560092e-03,  3.63433576e-02,\n",
       "         2.14458715e-02,  1.35074704e-01],\n",
       "       [-4.18608436e-01,  7.24493060e-01,  3.78426116e-01,\n",
       "        -6.78133952e-02, -2.66068401e-01],\n",
       "       [ 7.16288871e-02,  7.30291597e-01,  3.13731310e-01,\n",
       "        -4.19582244e-02, -3.52520368e-01],\n",
       "       [ 9.12330596e-01, -4.89174393e-02, -9.62026326e-02,\n",
       "        -8.08627699e-04,  1.51397522e-01],\n",
       "       [ 8.74255727e-01, -4.88195594e-02, -1.05145184e-01,\n",
       "        -1.36911716e-03,  1.38801617e-01],\n",
       "       [ 7.64219632e-01,  2.63455372e-03, -9.25009331e-03,\n",
       "         3.13864824e-03,  2.64169632e-01],\n",
       "       [-1.07084805e-01,  6.26845571e-01,  5.95441091e-01,\n",
       "        -1.49828490e-02,  3.16410728e-01],\n",
       "       [-3.29014533e-01,  5.76853486e-01,  5.60979532e-01,\n",
       "        -1.92066411e-02,  2.83246996e-01],\n",
       "       [-1.30859627e-01, -1.72428775e-02, -6.33718526e-02,\n",
       "         1.02532122e-01, -6.03994243e-01],\n",
       "       [-1.06207283e-01, -2.38432704e-02, -6.44166474e-02,\n",
       "         1.18144283e-01, -6.11312477e-01],\n",
       "       [ 2.76720725e-01, -2.67642447e-02,  5.82680758e-02,\n",
       "         8.80377274e-02, -5.74551002e-01],\n",
       "       [ 1.84265550e-01,  7.27719125e-02, -2.47003080e-01,\n",
       "         1.15261649e-02, -7.07094521e-01],\n",
       "       [ 8.78288811e-02, -6.07340651e-02, -1.22202070e-01,\n",
       "        -8.78602339e-02,  6.28264786e-01],\n",
       "       [-2.89209651e-01, -4.46232744e-03, -1.13632343e-01,\n",
       "        -8.58548663e-02,  5.86451246e-01],\n",
       "       [-1.93035668e-01, -6.42571064e-02,  2.84261833e-01,\n",
       "        -1.14207983e-02,  7.14077820e-01],\n",
       "       [ 4.02222710e-01,  5.70240090e-02,  2.77498209e-01,\n",
       "        -2.20695300e-01, -1.61022003e-01],\n",
       "       [ 4.15825664e-01,  5.91448048e-02,  2.43185877e-01,\n",
       "        -2.10696345e-01, -1.52168342e-01],\n",
       "       [ 3.61638984e-01,  5.08005871e-02,  2.93150004e-01,\n",
       "        -2.17954272e-01, -1.55618721e-01],\n",
       "       [ 2.57494960e-01, -3.80101180e-02,  7.45164226e-01,\n",
       "         8.54929576e-02,  4.08503540e-01],\n",
       "       [ 2.60200975e-01, -2.44840961e-02,  7.78201280e-01,\n",
       "         6.93060053e-02,  3.24135661e-01],\n",
       "       [-6.06826494e-02,  7.09529797e-02,  5.63349533e-01,\n",
       "         8.08727746e-02,  1.47166228e-01],\n",
       "       [ 4.86713613e-02,  8.39743838e-01, -1.74577708e-01,\n",
       "        -1.01000402e-02, -7.74843422e-02],\n",
       "       [ 6.76049295e-02,  9.24576899e-01, -1.08921867e-01,\n",
       "        -2.37513647e-02, -7.51244243e-02],\n",
       "       [ 2.15894409e-01, -3.59289899e-02,  7.25309047e-01,\n",
       "         1.31203917e-01,  4.13353351e-01],\n",
       "       [ 2.06508065e-01, -2.31448785e-02,  7.95001765e-01,\n",
       "         1.20686245e-01,  3.32827881e-01],\n",
       "       [-9.71471983e-02,  6.28038154e-02,  4.44138787e-01,\n",
       "         6.58849484e-02,  1.62199129e-01],\n",
       "       [ 6.21988790e-02,  8.77578415e-01, -1.58392314e-01,\n",
       "         2.49566054e-02, -6.36577438e-02],\n",
       "       [ 8.02883205e-02,  9.52795331e-01, -7.59000055e-02,\n",
       "         1.75306194e-02, -6.02315649e-02],\n",
       "       [-4.10845348e-02,  1.16017063e-01,  8.34916230e-01,\n",
       "        -3.91391465e-02, -2.36511306e-01],\n",
       "       [ 1.75789260e-01,  1.91481221e-01,  5.78709862e-01,\n",
       "        -1.18665595e-01, -1.01363359e-01],\n",
       "       [-6.44782677e-02, -6.76412480e-02, -3.02230172e-01,\n",
       "         1.29866389e-01,  1.69550581e-01],\n",
       "       [-1.54095318e-01, -6.88045854e-02, -1.74660690e-01,\n",
       "         1.19991193e-01,  1.38275340e-01],\n",
       "       [-3.47434994e-01, -4.93220762e-02,  1.24563789e-01,\n",
       "         2.14699747e-02,  1.40083364e-01],\n",
       "       [ 2.74255354e-01, -2.99989107e-02,  5.36797787e-02,\n",
       "         9.74975411e-02, -5.85877031e-01],\n",
       "       [ 7.98884537e-02,  1.04552025e-01, -3.12141377e-01,\n",
       "        -3.81663378e-02, -4.80747559e-01],\n",
       "       [ 3.59141467e-01, -1.11762186e-02, -4.56789256e-01,\n",
       "         5.55553394e-02,  2.55855979e-01],\n",
       "       [ 2.53991388e-01, -2.43119117e-02,  8.22432737e-01,\n",
       "         9.33822501e-02,  3.44692164e-01]])"
      ]
     },
     "execution_count": 59,
     "metadata": {},
     "output_type": "execute_result"
    }
   ],
   "source": [
    "fa=FactorAnalyzer(n_factors=5)\n",
    "fa.fit_transform(df_train.select_dtypes(exclude= ('object','category')))\n",
    "fa.loadings_"
   ]
  },
  {
   "cell_type": "markdown",
   "metadata": {},
   "source": [
    "## Data Modeling :"
   ]
  },
  {
   "cell_type": "markdown",
   "metadata": {},
   "source": [
    "### Build a linear Regression model to predict the total monthly expenditure for home mortgages loan. Please refer ‘deplotment_RE.xlsx’. Column hc_mortgage_mean is predicted variable. This is the mean monthly     mortgage and owner costs of specified geographical location. Note: Exclude loans from prediction model which have NaN (Not a Number) values for hc_mortgage_mean."
   ]
  },
  {
   "cell_type": "markdown",
   "metadata": {},
   "source": [
    "#### a) Run a model at a Nation level. If the accuracy levels and R square are not satisfactory proceed to below step.\n",
    "\n",
    "b) Run another model at State level. There are 52 states in USA.\n",
    "\n",
    "c) Keep below considerations while building a linear regression model. Data Modeling :\n",
    "\n",
    "• Variables should have significant impact on predicting Monthly mortgage and owner costs\n",
    "\n",
    "• Utilize all predictor variable to start with initial hypothesis\n",
    "\n",
    "• R square of 60 percent and above should be achieved\n",
    "\n",
    "• Ensure Multi-collinearity does not exist in dependent variables\n",
    "\n",
    "• Test if predicted variable is normally distributed"
   ]
  },
  {
   "cell_type": "code",
   "execution_count": 60,
   "metadata": {},
   "outputs": [
    {
     "data": {
      "text/plain": [
       "Index(['COUNTYID', 'STATEID', 'state', 'state_ab', 'city', 'place', 'type',\n",
       "       'zip_code', 'area_code', 'lat', 'lng', 'ALand', 'AWater', 'pop',\n",
       "       'male_pop', 'female_pop', 'rent_mean', 'rent_median', 'rent_stdev',\n",
       "       'rent_sample_weight', 'rent_samples', 'rent_gt_10', 'rent_gt_15',\n",
       "       'rent_gt_20', 'rent_gt_25', 'rent_gt_30', 'rent_gt_35', 'rent_gt_40',\n",
       "       'rent_gt_50', 'universe_samples', 'used_samples', 'hi_mean',\n",
       "       'hi_median', 'hi_stdev', 'hi_sample_weight', 'hi_samples',\n",
       "       'family_mean', 'family_median', 'family_stdev', 'family_sample_weight',\n",
       "       'family_samples', 'hc_mortgage_mean', 'hc_mortgage_median',\n",
       "       'hc_mortgage_stdev', 'hc_mortgage_sample_weight', 'hc_mortgage_samples',\n",
       "       'hc_mean', 'hc_median', 'hc_stdev', 'hc_samples', 'hc_sample_weight',\n",
       "       'home_equity_second_mortgage', 'second_mortgage', 'home_equity', 'debt',\n",
       "       'second_mortgage_cdf', 'home_equity_cdf', 'debt_cdf', 'hs_degree',\n",
       "       'hs_degree_male', 'hs_degree_female', 'male_age_mean',\n",
       "       'male_age_median', 'male_age_stdev', 'male_age_sample_weight',\n",
       "       'male_age_samples', 'female_age_mean', 'female_age_median',\n",
       "       'female_age_stdev', 'female_age_sample_weight', 'female_age_samples',\n",
       "       'pct_own', 'married', 'married_snp', 'separated', 'divorced',\n",
       "       'bad_debt', 'good_debt', 'pop_density', 'age_median', 'pop_bins'],\n",
       "      dtype='object')"
      ]
     },
     "execution_count": 60,
     "metadata": {},
     "output_type": "execute_result"
    }
   ],
   "source": [
    "df_train.columns"
   ]
  },
  {
   "cell_type": "code",
   "execution_count": 61,
   "metadata": {},
   "outputs": [
    {
     "data": {
      "text/plain": [
       "array(['City', 'Urban', 'Town', 'CDP', 'Village', 'Borough'], dtype=object)"
      ]
     },
     "execution_count": 61,
     "metadata": {},
     "output_type": "execute_result"
    }
   ],
   "source": [
    "df_train['type'].unique()"
   ]
  },
  {
   "cell_type": "code",
   "execution_count": 62,
   "metadata": {},
   "outputs": [],
   "source": [
    "type_dict={'type':{'City':1, 'Urban':2, 'Town':3, 'CDP':4, 'Village':5, 'Borough':6}}\n",
    "df_train.replace(type_dict,inplace=True)"
   ]
  },
  {
   "cell_type": "code",
   "execution_count": 63,
   "metadata": {},
   "outputs": [],
   "source": [
    "df_test.replace(type_dict,inplace=True)"
   ]
  },
  {
   "cell_type": "code",
   "execution_count": 64,
   "metadata": {},
   "outputs": [
    {
     "data": {
      "text/plain": [
       "array([1, 2, 3, 4, 5, 6])"
      ]
     },
     "execution_count": 64,
     "metadata": {},
     "output_type": "execute_result"
    }
   ],
   "source": [
    "df_train['type'].unique()"
   ]
  },
  {
   "cell_type": "code",
   "execution_count": 65,
   "metadata": {},
   "outputs": [],
   "source": [
    "feature_cols=['COUNTYID','STATEID','zip_code','type','pop', 'family_mean','second_mortgage', 'home_equity', 'debt','hs_degree',\n",
    "              'age_median','pct_own', 'married','separated', 'divorced']"
   ]
  },
  {
   "cell_type": "code",
   "execution_count": 66,
   "metadata": {},
   "outputs": [],
   "source": [
    "xtrain=df_train[feature_cols]\n",
    "ytrain=df_train['hc_mortgage_mean']"
   ]
  },
  {
   "cell_type": "code",
   "execution_count": 67,
   "metadata": {},
   "outputs": [],
   "source": [
    "xtest=df_test[feature_cols]\n",
    "ytest=df_test['hc_mortgage_mean']"
   ]
  },
  {
   "cell_type": "code",
   "execution_count": 68,
   "metadata": {},
   "outputs": [],
   "source": [
    "from sklearn.preprocessing import StandardScaler\n",
    "from sklearn.linear_model import LinearRegression\n",
    "from sklearn.metrics import r2_score, mean_absolute_error,mean_squared_error,accuracy_score"
   ]
  },
  {
   "cell_type": "code",
   "execution_count": 69,
   "metadata": {},
   "outputs": [
    {
     "data": {
      "text/html": [
       "<div>\n",
       "<style scoped>\n",
       "    .dataframe tbody tr th:only-of-type {\n",
       "        vertical-align: middle;\n",
       "    }\n",
       "\n",
       "    .dataframe tbody tr th {\n",
       "        vertical-align: top;\n",
       "    }\n",
       "\n",
       "    .dataframe thead th {\n",
       "        text-align: right;\n",
       "    }\n",
       "</style>\n",
       "<table border=\"1\" class=\"dataframe\">\n",
       "  <thead>\n",
       "    <tr style=\"text-align: right;\">\n",
       "      <th></th>\n",
       "      <th>COUNTYID</th>\n",
       "      <th>STATEID</th>\n",
       "      <th>zip_code</th>\n",
       "      <th>type</th>\n",
       "      <th>pop</th>\n",
       "      <th>family_mean</th>\n",
       "      <th>second_mortgage</th>\n",
       "      <th>home_equity</th>\n",
       "      <th>debt</th>\n",
       "      <th>hs_degree</th>\n",
       "      <th>age_median</th>\n",
       "      <th>pct_own</th>\n",
       "      <th>married</th>\n",
       "      <th>separated</th>\n",
       "      <th>divorced</th>\n",
       "    </tr>\n",
       "    <tr>\n",
       "      <th>UID</th>\n",
       "      <th></th>\n",
       "      <th></th>\n",
       "      <th></th>\n",
       "      <th></th>\n",
       "      <th></th>\n",
       "      <th></th>\n",
       "      <th></th>\n",
       "      <th></th>\n",
       "      <th></th>\n",
       "      <th></th>\n",
       "      <th></th>\n",
       "      <th></th>\n",
       "      <th></th>\n",
       "      <th></th>\n",
       "      <th></th>\n",
       "    </tr>\n",
       "  </thead>\n",
       "  <tbody>\n",
       "    <tr>\n",
       "      <th>255504</th>\n",
       "      <td>163</td>\n",
       "      <td>26</td>\n",
       "      <td>48239</td>\n",
       "      <td>4</td>\n",
       "      <td>3417</td>\n",
       "      <td>53802.87122</td>\n",
       "      <td>0.06443</td>\n",
       "      <td>0.07651</td>\n",
       "      <td>0.63624</td>\n",
       "      <td>0.91047</td>\n",
       "      <td>44.708330</td>\n",
       "      <td>0.70252</td>\n",
       "      <td>0.28217</td>\n",
       "      <td>0.03813</td>\n",
       "      <td>0.14299</td>\n",
       "    </tr>\n",
       "    <tr>\n",
       "      <th>252676</th>\n",
       "      <td>1</td>\n",
       "      <td>23</td>\n",
       "      <td>4210</td>\n",
       "      <td>1</td>\n",
       "      <td>3796</td>\n",
       "      <td>85642.22095</td>\n",
       "      <td>0.01175</td>\n",
       "      <td>0.14375</td>\n",
       "      <td>0.64755</td>\n",
       "      <td>0.94290</td>\n",
       "      <td>69.416665</td>\n",
       "      <td>0.85128</td>\n",
       "      <td>0.64221</td>\n",
       "      <td>0.00000</td>\n",
       "      <td>0.13377</td>\n",
       "    </tr>\n",
       "    <tr>\n",
       "      <th>276314</th>\n",
       "      <td>15</td>\n",
       "      <td>42</td>\n",
       "      <td>14871</td>\n",
       "      <td>6</td>\n",
       "      <td>3944</td>\n",
       "      <td>65694.06582</td>\n",
       "      <td>0.01316</td>\n",
       "      <td>0.06497</td>\n",
       "      <td>0.45395</td>\n",
       "      <td>0.89238</td>\n",
       "      <td>64.166670</td>\n",
       "      <td>0.81897</td>\n",
       "      <td>0.59961</td>\n",
       "      <td>0.01358</td>\n",
       "      <td>0.10026</td>\n",
       "    </tr>\n",
       "    <tr>\n",
       "      <th>248614</th>\n",
       "      <td>231</td>\n",
       "      <td>21</td>\n",
       "      <td>42633</td>\n",
       "      <td>1</td>\n",
       "      <td>2508</td>\n",
       "      <td>44156.38709</td>\n",
       "      <td>0.00995</td>\n",
       "      <td>0.01741</td>\n",
       "      <td>0.41915</td>\n",
       "      <td>0.60908</td>\n",
       "      <td>67.000000</td>\n",
       "      <td>0.84609</td>\n",
       "      <td>0.56953</td>\n",
       "      <td>0.04694</td>\n",
       "      <td>0.12489</td>\n",
       "    </tr>\n",
       "    <tr>\n",
       "      <th>286865</th>\n",
       "      <td>355</td>\n",
       "      <td>48</td>\n",
       "      <td>78410</td>\n",
       "      <td>3</td>\n",
       "      <td>6230</td>\n",
       "      <td>123527.02420</td>\n",
       "      <td>0.00000</td>\n",
       "      <td>0.03440</td>\n",
       "      <td>0.63188</td>\n",
       "      <td>0.86297</td>\n",
       "      <td>65.083335</td>\n",
       "      <td>0.79077</td>\n",
       "      <td>0.57620</td>\n",
       "      <td>0.00588</td>\n",
       "      <td>0.16379</td>\n",
       "    </tr>\n",
       "  </tbody>\n",
       "</table>\n",
       "</div>"
      ],
      "text/plain": [
       "        COUNTYID  STATEID  zip_code  type   pop   family_mean  \\\n",
       "UID                                                             \n",
       "255504       163       26     48239     4  3417   53802.87122   \n",
       "252676         1       23      4210     1  3796   85642.22095   \n",
       "276314        15       42     14871     6  3944   65694.06582   \n",
       "248614       231       21     42633     1  2508   44156.38709   \n",
       "286865       355       48     78410     3  6230  123527.02420   \n",
       "\n",
       "        second_mortgage  home_equity     debt  hs_degree  age_median  pct_own  \\\n",
       "UID                                                                             \n",
       "255504          0.06443      0.07651  0.63624    0.91047   44.708330  0.70252   \n",
       "252676          0.01175      0.14375  0.64755    0.94290   69.416665  0.85128   \n",
       "276314          0.01316      0.06497  0.45395    0.89238   64.166670  0.81897   \n",
       "248614          0.00995      0.01741  0.41915    0.60908   67.000000  0.84609   \n",
       "286865          0.00000      0.03440  0.63188    0.86297   65.083335  0.79077   \n",
       "\n",
       "        married  separated  divorced  \n",
       "UID                                   \n",
       "255504  0.28217    0.03813   0.14299  \n",
       "252676  0.64221    0.00000   0.13377  \n",
       "276314  0.59961    0.01358   0.10026  \n",
       "248614  0.56953    0.04694   0.12489  \n",
       "286865  0.57620    0.00588   0.16379  "
      ]
     },
     "execution_count": 69,
     "metadata": {},
     "output_type": "execute_result"
    }
   ],
   "source": [
    "xtest.head()"
   ]
  },
  {
   "cell_type": "code",
   "execution_count": 70,
   "metadata": {},
   "outputs": [],
   "source": [
    "sc=StandardScaler()\n",
    "xtrain_scaled=sc.fit_transform(xtrain)\n",
    "xtest_scaled=sc.fit_transform(xtest)"
   ]
  },
  {
   "cell_type": "code",
   "execution_count": 71,
   "metadata": {},
   "outputs": [
    {
     "data": {
      "text/plain": [
       "LinearRegression()"
      ]
     },
     "execution_count": 71,
     "metadata": {},
     "output_type": "execute_result"
    }
   ],
   "source": [
    "lr=LinearRegression()\n",
    "lr.fit(xtrain_scaled,ytrain)"
   ]
  },
  {
   "cell_type": "code",
   "execution_count": 72,
   "metadata": {},
   "outputs": [],
   "source": [
    "ypred= lr.predict(xtest_scaled)"
   ]
  },
  {
   "cell_type": "code",
   "execution_count": 73,
   "metadata": {},
   "outputs": [
    {
     "name": "stdout",
     "output_type": "stream",
     "text": [
      "Overall R2 score of linear regression model 0.7393650505184304\n",
      "Overall RMSE of linear regression model 320.4641119170825\n"
     ]
    }
   ],
   "source": [
    "print(\"Overall R2 score of linear regression model\", r2_score(ytest,ypred))\n",
    "print(\"Overall RMSE of linear regression model\", np.sqrt(mean_squared_error(ytest,ypred)))"
   ]
  },
  {
   "cell_type": "code",
   "execution_count": 74,
   "metadata": {},
   "outputs": [
    {
     "data": {
      "text/plain": [
       "array([36, 18, 72, 20,  1, 48, 45,  6,  5, 24, 17, 19, 47, 32, 22,  8, 44,\n",
       "       28, 34, 41,  4, 12, 55, 42, 37, 51, 26, 39, 40, 13, 16, 46, 27, 29,\n",
       "       53, 56,  9, 54, 21, 25, 11, 15, 30,  2, 33, 49, 50, 31, 38, 35, 23,\n",
       "       10])"
      ]
     },
     "execution_count": 74,
     "metadata": {},
     "output_type": "execute_result"
    }
   ],
   "source": [
    "state=df_train['STATEID'].unique()\n",
    "state"
   ]
  },
  {
   "cell_type": "code",
   "execution_count": 75,
   "metadata": {},
   "outputs": [
    {
     "name": "stdout",
     "output_type": "stream",
     "text": [
      "State ID- 11\n",
      "Overall R2 score of linear regression model for state, 11 :- 0.7466965040298003\n",
      "Overall RMSE of linear regression model for state, 11 :- 238.00669942760942\n",
      "\n",
      "\n",
      "State ID- 33\n",
      "Overall R2 score of linear regression model for state, 33 :- 0.8615110128116417\n",
      "Overall RMSE of linear regression model for state, 33 :- 211.17226657126835\n",
      "\n",
      "\n",
      "State ID- 35\n",
      "Overall R2 score of linear regression model for state, 35 :- 0.719056112896151\n",
      "Overall RMSE of linear regression model for state, 35 :- 258.272541473138\n",
      "\n",
      "\n"
     ]
    }
   ],
   "source": [
    "for i in [11,33,35]:\n",
    "    print(\"State ID-\",i)\n",
    "\n",
    "    xtrain_nation=df_train[df_train['COUNTYID']==i][feature_cols]\n",
    "    ytrain_nation=df_train[df_train['COUNTYID']==i]['hc_mortgage_mean']\n",
    "    \n",
    "    xtest_nation=df_test[df_test['COUNTYID']==i][feature_cols]\n",
    "    ytest_nation=df_test[df_test['COUNTYID']==i]['hc_mortgage_mean']\n",
    "    \n",
    "    xtrain_scaled_nation=sc.fit_transform(xtrain_nation)\n",
    "    xtest_scaled_nation=sc.fit_transform(xtest_nation)\n",
    "    \n",
    "    lr.fit(xtrain_scaled_nation,ytrain_nation)\n",
    "    ypred_nation=lr.predict(xtest_scaled_nation)\n",
    "    \n",
    "    print(\"Overall R2 score of linear regression model for state,\",i,\":-\" ,r2_score(ytest_nation,ypred_nation))\n",
    "    print(\"Overall RMSE of linear regression model for state,\",i,\":-\" ,np.sqrt(mean_squared_error(ytest_nation,ypred_nation)))\n",
    "    print(\"\\n\")"
   ]
  },
  {
   "cell_type": "code",
   "execution_count": 76,
   "metadata": {},
   "outputs": [
    {
     "data": {
      "image/png": "[encoded data removed]",
      "text/plain": [
       "<Figure size 432x288 with 1 Axes>"
      ]
     },
     "metadata": {
      "needs_background": "light"
     },
     "output_type": "display_data"
    }
   ],
   "source": [
    "sns.distplot(ypred)\n",
    "plt.show()"
   ]
  },
  {
   "cell_type": "markdown",
   "metadata": {},
   "source": [
    "## Data Reporting:"
   ]
  },
  {
   "cell_type": "markdown",
   "metadata": {},
   "source": [
    "####  Create a dashboard in tableau by choosing appropriate chart types and metrics useful for the business. The dashboard must entail the following:\n",
    "\n",
    "a) Box plot of distribution of average rent by type of place (village, urban, town, etc.).\n",
    "\n",
    "b) Pie charts to show overall debt and bad debt.\n",
    "\n",
    "c) Explore the top 2,500 locations where the percentage of households with a second mortgage is the highest and percent ownership is above 10 percent. Visualize using geo-map.\n",
    "\n",
    "d) Heat map for correlation matrix.\n",
    "\n",
    "e) Pie chart to show the population distribution across different types of places (village, urban, town etc.)\n",
    "\n"
   ]
  },
  {
   "cell_type": "code",
   "execution_count": null,
   "metadata": {},
   "outputs": [],
   "source": []
  }
 ],
 "metadata": {
  "kernelspec": {
   "display_name": "Python 3",
   "language": "python",
   "name": "python3"
  },
  "language_info": {
   "codemirror_mode": {
    "name": "ipython",
    "version": 3
   },
   "file_extension": ".py",
   "mimetype": "text/x-python",
   "name": "python",
   "nbconvert_exporter": "python",
   "pygments_lexer": "ipython3",
   "version": "3.7.6"
  }
 },
 "nbformat": 4,
 "nbformat_minor": 4
}
